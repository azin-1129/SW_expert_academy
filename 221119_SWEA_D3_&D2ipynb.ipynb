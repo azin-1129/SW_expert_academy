{
  "nbformat": 4,
  "nbformat_minor": 0,
  "metadata": {
    "colab": {
      "provenance": []
    },
    "kernelspec": {
      "name": "python3",
      "display_name": "Python 3"
    },
    "language_info": {
      "name": "python"
    }
  },
  "cells": [
    {
      "cell_type": "code",
      "execution_count": 41,
      "metadata": {
        "colab": {
          "base_uri": "https://localhost:8080/",
          "height": 359
        },
        "id": "nlP6aO6xi7WY",
        "outputId": "141a19aa-421b-47e0-fe5f-9dc14c563f02"
      },
      "outputs": [
        {
          "output_type": "stream",
          "name": "stdout",
          "text": [
            "1\n",
            "32888 2\n",
            "[3, 2, 8, 8, 8]\n",
            "i: 0 num: [3, 2, 8, 8, 8]\n",
            "교체함\n",
            "i: 1 num: [8, 2, 8, 8, 3]\n"
          ]
        },
        {
          "output_type": "error",
          "ename": "ValueError",
          "evalue": "ignored",
          "traceback": [
            "\u001b[0;31m---------------------------------------------------------------------------\u001b[0m",
            "\u001b[0;31mValueError\u001b[0m                                Traceback (most recent call last)",
            "\u001b[0;32m<ipython-input-41-586a3ccbc2e4>\u001b[0m in \u001b[0;36m<module>\u001b[0;34m\u001b[0m\n\u001b[1;32m     25\u001b[0m         \u001b[0;32mcontinue\u001b[0m\u001b[0;34m\u001b[0m\u001b[0;34m\u001b[0m\u001b[0m\n\u001b[1;32m     26\u001b[0m \u001b[0;34m\u001b[0m\u001b[0m\n\u001b[0;32m---> 27\u001b[0;31m       \u001b[0midx\u001b[0m\u001b[0;34m=\u001b[0m\u001b[0mnum\u001b[0m\u001b[0;34m.\u001b[0m\u001b[0mindex\u001b[0m\u001b[0;34m(\u001b[0m\u001b[0mmax\u001b[0m\u001b[0;34m(\u001b[0m\u001b[0mnum\u001b[0m\u001b[0;34m[\u001b[0m\u001b[0mi\u001b[0m\u001b[0;34m+\u001b[0m\u001b[0;36m1\u001b[0m\u001b[0;34m:\u001b[0m\u001b[0;34m]\u001b[0m\u001b[0;34m)\u001b[0m\u001b[0;34m,\u001b[0m\u001b[0;34m-\u001b[0m\u001b[0;36m1\u001b[0m\u001b[0;34m)\u001b[0m\u001b[0;34m\u001b[0m\u001b[0;34m\u001b[0m\u001b[0m\n\u001b[0m\u001b[1;32m     28\u001b[0m       \u001b[0mprint\u001b[0m\u001b[0;34m(\u001b[0m\u001b[0;34m'교체함'\u001b[0m\u001b[0;34m)\u001b[0m\u001b[0;34m\u001b[0m\u001b[0;34m\u001b[0m\u001b[0m\n\u001b[1;32m     29\u001b[0m       \u001b[0mnum\u001b[0m\u001b[0;34m[\u001b[0m\u001b[0mi\u001b[0m\u001b[0;34m]\u001b[0m\u001b[0;34m,\u001b[0m\u001b[0mnum\u001b[0m\u001b[0;34m[\u001b[0m\u001b[0midx\u001b[0m\u001b[0;34m]\u001b[0m\u001b[0;34m=\u001b[0m\u001b[0mnum\u001b[0m\u001b[0;34m[\u001b[0m\u001b[0midx\u001b[0m\u001b[0;34m]\u001b[0m\u001b[0;34m,\u001b[0m\u001b[0mnum\u001b[0m\u001b[0;34m[\u001b[0m\u001b[0mi\u001b[0m\u001b[0;34m]\u001b[0m \u001b[0;31m# 교체\u001b[0m\u001b[0;34m\u001b[0m\u001b[0;34m\u001b[0m\u001b[0m\n",
            "\u001b[0;31mValueError\u001b[0m: 8 is not in list"
          ]
        }
      ],
      "source": [
        "# 1244. 최대 상금\n",
        "# 1시간 소요. 그냥 접근 방법에 문제가 있었던 거 같음, 실패\n",
        "\n",
        "T=int(input())\n",
        "\n",
        "for t in range(1,T+1):\n",
        "  num,change=input().split()\n",
        "  num=list(map(int,num))\n",
        "  i=0 # 교체 카운트\n",
        "  ch_cnt=0\n",
        "\n",
        "  print(num)\n",
        "  if int(change)!=0 or len(num)!=0:\n",
        "    while True:\n",
        "      if num==list(sorted(num,reverse=True)): # 다 정렬되면\n",
        "        if num[0]==num[1]:\n",
        "          break\n",
        "        else:\n",
        "          for j in range(int(change)-ch_cnt): # 남은 횟수만큼\n",
        "            num[len(num)-1],num[len(num)-2]=num[len(num)-2],num[len(num)-1] # 스와핑\n",
        "            #print('스와핑중',num)\n",
        "          break\n",
        "      #print('i:',i,'num:',num)\n",
        "\n",
        "      if num[i]>max(num[i+1:]): # 교체할 필요 x\n",
        "        #print('지금게 커서 패스')\n",
        "        i+=1\n",
        "        continue\n",
        "      \n",
        "      idx=num.index(max(num[i+1:]))\n",
        "      #print('교체함')\n",
        "      num[i],num[idx]=num[idx],num[i] # 교체\n",
        "      i+=1\n",
        "      ch_cnt+=1\n",
        "\n",
        "      if ch_cnt==int(change):\n",
        "        break # 종료\n",
        "  else:\n",
        "    print(f'#{t} {num}')\n",
        "    continue\n",
        "\n",
        "  print(f'#{t}',''.join((map(str,num))))"
      ]
    },
    {
      "cell_type": "code",
      "source": [
        "# 1859. 백만 장자 프로젝트\n",
        "# 30분 소요. 실패\n",
        "\n",
        "def sol(arr, idx, cnt):\n",
        "  global eco # 왜 eco가 안 변할까욤..????\n",
        "\n",
        "  print('sol',arr,idx,cnt,'호출중')\n",
        "  print(\"현 eco:\",eco)\n",
        "  if idx==len(arr)-1:\n",
        "    if arr[idx]<arr[idx-1]:\n",
        "      print(\"값 내려감\",eco)\n",
        "      return eco\n",
        "    elif arr[idx]>arr[idx-1]:\n",
        "      print(\"팔자\",eco)\n",
        "      eco+=cnt*arr[idx]\n",
        "      return eco\n",
        "\n",
        "  if arr[idx]<arr[idx+1]:\n",
        "    print(\"사버려\")\n",
        "    cnt+=1\n",
        "    sol(arr,idx+1,cnt)\n",
        "  elif arr[idx]>arr[idx+1]:\n",
        "    print(\"값이 내려가기전에\")\n",
        "    if cnt==0:\n",
        "      print(\"산 게 없어서 놔둠\")\n",
        "      sol(arr,idx+1,0)\n",
        "    else:\n",
        "      print(\"팔음\")\n",
        "      eco+=cnt*arr[idx]\n",
        "    sol(arr,idx+1,0)\n",
        "\n",
        "\n",
        "T=int(input())\n",
        "\n",
        "for t in range(1,T+1):\n",
        "  N=int(input())\n",
        "  eco=0\n",
        "  mmga=list(map(int,input().split()))\n",
        "\n",
        "  res=sol(mmga,0,0)\n",
        "  print(f'#{t}', res)"
      ],
      "metadata": {
        "colab": {
          "base_uri": "https://localhost:8080/",
          "height": 1000
        },
        "id": "urRTsZbPoPgO",
        "outputId": "07982576-91d0-42d5-c48a-66f34fb30b99"
      },
      "execution_count": 53,
      "outputs": [
        {
          "output_type": "stream",
          "name": "stdout",
          "text": [
            "3\n",
            "3\n",
            "10 7 6\n",
            "sol [10, 7, 6] 0 0 호출중\n",
            "현 eco: 0\n",
            "값이 내려가기전에\n",
            "산 게 없어서 놔둠\n",
            "sol [10, 7, 6] 1 0 호출중\n",
            "현 eco: 0\n",
            "값이 내려가기전에\n",
            "산 게 없어서 놔둠\n",
            "sol [10, 7, 6] 2 0 호출중\n",
            "현 eco: 0\n",
            "값 내려감 0\n",
            "sol [10, 7, 6] 2 0 호출중\n",
            "현 eco: 0\n",
            "값 내려감 0\n",
            "sol [10, 7, 6] 1 0 호출중\n",
            "현 eco: 0\n",
            "값이 내려가기전에\n",
            "산 게 없어서 놔둠\n",
            "sol [10, 7, 6] 2 0 호출중\n",
            "현 eco: 0\n",
            "값 내려감 0\n",
            "sol [10, 7, 6] 2 0 호출중\n",
            "현 eco: 0\n",
            "값 내려감 0\n",
            "#1 None\n",
            "3\n",
            "3 5 9\n",
            "sol [3, 5, 9] 0 0 호출중\n",
            "현 eco: 0\n",
            "사버려\n",
            "sol [3, 5, 9] 1 1 호출중\n",
            "현 eco: 0\n",
            "사버려\n",
            "sol [3, 5, 9] 2 2 호출중\n",
            "현 eco: 0\n",
            "팔자 0\n",
            "#2 None\n"
          ]
        },
        {
          "output_type": "error",
          "ename": "KeyboardInterrupt",
          "evalue": "ignored",
          "traceback": [
            "\u001b[0;31m---------------------------------------------------------------------------\u001b[0m",
            "\u001b[0;31mKeyboardInterrupt\u001b[0m                         Traceback (most recent call last)",
            "\u001b[0;32m<ipython-input-53-000b88620a0e>\u001b[0m in \u001b[0;36m<module>\u001b[0;34m\u001b[0m\n\u001b[1;32m     33\u001b[0m \u001b[0;34m\u001b[0m\u001b[0m\n\u001b[1;32m     34\u001b[0m \u001b[0;32mfor\u001b[0m \u001b[0mt\u001b[0m \u001b[0;32min\u001b[0m \u001b[0mrange\u001b[0m\u001b[0;34m(\u001b[0m\u001b[0;36m1\u001b[0m\u001b[0;34m,\u001b[0m\u001b[0mT\u001b[0m\u001b[0;34m+\u001b[0m\u001b[0;36m1\u001b[0m\u001b[0;34m)\u001b[0m\u001b[0;34m:\u001b[0m\u001b[0;34m\u001b[0m\u001b[0;34m\u001b[0m\u001b[0m\n\u001b[0;32m---> 35\u001b[0;31m   \u001b[0mN\u001b[0m\u001b[0;34m=\u001b[0m\u001b[0mint\u001b[0m\u001b[0;34m(\u001b[0m\u001b[0minput\u001b[0m\u001b[0;34m(\u001b[0m\u001b[0;34m)\u001b[0m\u001b[0;34m)\u001b[0m\u001b[0;34m\u001b[0m\u001b[0;34m\u001b[0m\u001b[0m\n\u001b[0m\u001b[1;32m     36\u001b[0m   \u001b[0meco\u001b[0m\u001b[0;34m=\u001b[0m\u001b[0;36m0\u001b[0m\u001b[0;34m\u001b[0m\u001b[0;34m\u001b[0m\u001b[0m\n\u001b[1;32m     37\u001b[0m   \u001b[0mmmga\u001b[0m\u001b[0;34m=\u001b[0m\u001b[0mlist\u001b[0m\u001b[0;34m(\u001b[0m\u001b[0mmap\u001b[0m\u001b[0;34m(\u001b[0m\u001b[0mint\u001b[0m\u001b[0;34m,\u001b[0m\u001b[0minput\u001b[0m\u001b[0;34m(\u001b[0m\u001b[0;34m)\u001b[0m\u001b[0;34m.\u001b[0m\u001b[0msplit\u001b[0m\u001b[0;34m(\u001b[0m\u001b[0;34m)\u001b[0m\u001b[0;34m)\u001b[0m\u001b[0;34m)\u001b[0m\u001b[0;34m\u001b[0m\u001b[0;34m\u001b[0m\u001b[0m\n",
            "\u001b[0;32m/usr/local/lib/python3.7/dist-packages/ipykernel/kernelbase.py\u001b[0m in \u001b[0;36mraw_input\u001b[0;34m(self, prompt)\u001b[0m\n\u001b[1;32m    861\u001b[0m             \u001b[0mself\u001b[0m\u001b[0;34m.\u001b[0m\u001b[0m_parent_ident\u001b[0m\u001b[0;34m,\u001b[0m\u001b[0;34m\u001b[0m\u001b[0;34m\u001b[0m\u001b[0m\n\u001b[1;32m    862\u001b[0m             \u001b[0mself\u001b[0m\u001b[0;34m.\u001b[0m\u001b[0m_parent_header\u001b[0m\u001b[0;34m,\u001b[0m\u001b[0;34m\u001b[0m\u001b[0;34m\u001b[0m\u001b[0m\n\u001b[0;32m--> 863\u001b[0;31m             \u001b[0mpassword\u001b[0m\u001b[0;34m=\u001b[0m\u001b[0;32mFalse\u001b[0m\u001b[0;34m,\u001b[0m\u001b[0;34m\u001b[0m\u001b[0;34m\u001b[0m\u001b[0m\n\u001b[0m\u001b[1;32m    864\u001b[0m         )\n\u001b[1;32m    865\u001b[0m \u001b[0;34m\u001b[0m\u001b[0m\n",
            "\u001b[0;32m/usr/local/lib/python3.7/dist-packages/ipykernel/kernelbase.py\u001b[0m in \u001b[0;36m_input_request\u001b[0;34m(self, prompt, ident, parent, password)\u001b[0m\n\u001b[1;32m    902\u001b[0m             \u001b[0;32mexcept\u001b[0m \u001b[0mKeyboardInterrupt\u001b[0m\u001b[0;34m:\u001b[0m\u001b[0;34m\u001b[0m\u001b[0;34m\u001b[0m\u001b[0m\n\u001b[1;32m    903\u001b[0m                 \u001b[0;31m# re-raise KeyboardInterrupt, to truncate traceback\u001b[0m\u001b[0;34m\u001b[0m\u001b[0;34m\u001b[0m\u001b[0;34m\u001b[0m\u001b[0m\n\u001b[0;32m--> 904\u001b[0;31m                 \u001b[0;32mraise\u001b[0m \u001b[0mKeyboardInterrupt\u001b[0m\u001b[0;34m(\u001b[0m\u001b[0;34m\"Interrupted by user\"\u001b[0m\u001b[0;34m)\u001b[0m \u001b[0;32mfrom\u001b[0m \u001b[0;32mNone\u001b[0m\u001b[0;34m\u001b[0m\u001b[0;34m\u001b[0m\u001b[0m\n\u001b[0m\u001b[1;32m    905\u001b[0m             \u001b[0;32mexcept\u001b[0m \u001b[0mException\u001b[0m \u001b[0;32mas\u001b[0m \u001b[0me\u001b[0m\u001b[0;34m:\u001b[0m\u001b[0;34m\u001b[0m\u001b[0;34m\u001b[0m\u001b[0m\n\u001b[1;32m    906\u001b[0m                 \u001b[0mself\u001b[0m\u001b[0;34m.\u001b[0m\u001b[0mlog\u001b[0m\u001b[0;34m.\u001b[0m\u001b[0mwarning\u001b[0m\u001b[0;34m(\u001b[0m\u001b[0;34m\"Invalid Message:\"\u001b[0m\u001b[0;34m,\u001b[0m \u001b[0mexc_info\u001b[0m\u001b[0;34m=\u001b[0m\u001b[0;32mTrue\u001b[0m\u001b[0;34m)\u001b[0m\u001b[0;34m\u001b[0m\u001b[0;34m\u001b[0m\u001b[0m\n",
            "\u001b[0;31mKeyboardInterrupt\u001b[0m: Interrupted by user"
          ]
        }
      ]
    },
    {
      "cell_type": "code",
      "source": [
        "1sorted([3,4,5])"
      ],
      "metadata": {
        "colab": {
          "base_uri": "https://localhost:8080/"
        },
        "id": "cxzdKiACpg8N",
        "outputId": "20e44c4a-f08e-436a-b27e-0ac72b5d0634"
      },
      "execution_count": 16,
      "outputs": [
        {
          "output_type": "execute_result",
          "data": {
            "text/plain": [
              "[3, 4, 5]"
            ]
          },
          "metadata": {},
          "execution_count": 16
        }
      ]
    },
    {
      "cell_type": "code",
      "source": [],
      "metadata": {
        "id": "dJT2BDiIqiKo"
      },
      "execution_count": null,
      "outputs": []
    }
  ]
}