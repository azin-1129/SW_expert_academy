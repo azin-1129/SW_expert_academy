{
  "nbformat": 4,
  "nbformat_minor": 0,
  "metadata": {
    "colab": {
      "provenance": [],
      "collapsed_sections": []
    },
    "kernelspec": {
      "name": "python3",
      "display_name": "Python 3"
    },
    "language_info": {
      "name": "python"
    }
  },
  "cells": [
    {
      "cell_type": "code",
      "execution_count": 29,
      "metadata": {
        "colab": {
          "base_uri": "https://localhost:8080/"
        },
        "id": "ZlNNHeU6hZay",
        "outputId": "18d9a763-ddb2-4e03-f4d5-edddf7f4ef95"
      },
      "outputs": [
        {
          "output_type": "stream",
          "name": "stdout",
          "text": [
            "1\n",
            "aba\n",
            "#1 1\n"
          ]
        }
      ],
      "source": [
        "# 1989. 초심자의 회문 검사\n",
        "\n",
        "# 30분 걸림\n",
        "T=int(input())\n",
        "\n",
        "for t in range(1,T+1):\n",
        "  word=input()\n",
        "  mose=len(word)//2\n",
        "\n",
        "  if len(word)%2==0:\n",
        "    if word[0:mose]==''.join(reversed(word[mose:len(word)])):\n",
        "      print(f'#{t} 1')\n",
        "    else:\n",
        "      print(f'#{t} 0')\n",
        "  else:\n",
        "    if word[0:mose]==''.join(reversed(word[mose+1:len(word)])):\n",
        "      print(f'#{t} 1')\n",
        "    else:\n",
        "      print(f'#{t} 0')"
      ]
    },
    {
      "cell_type": "code",
      "source": [
        "# 1986. 지그재그 숫자\n",
        "# 6분 소요\n",
        "T=int(input())\n",
        "\n",
        "for t in range(1,T+1):\n",
        "  N=int(input())\n",
        "  res=0\n",
        "\n",
        "  for i in range(1,N+1):\n",
        "    if i%2==0:\n",
        "      res-=i\n",
        "    else:\n",
        "      res+=i\n",
        "\n",
        "  print(f'#{t} {res}')"
      ],
      "metadata": {
        "colab": {
          "base_uri": "https://localhost:8080/"
        },
        "id": "Js9RmD4wj6xZ",
        "outputId": "dd5b0480-a525-47e8-a9ae-9169ed8ac7a3"
      },
      "execution_count": 30,
      "outputs": [
        {
          "output_type": "stream",
          "name": "stdout",
          "text": [
            "2\n",
            "5\n",
            "#1 3\n",
            "6\n",
            "#2 -3\n"
          ]
        }
      ]
    },
    {
      "cell_type": "code",
      "source": [
        "# 1984. 중간 평균값 구하기\n",
        "# 8분 소요\n",
        "T=int(input())\n",
        "for t in range(1,T+1):\n",
        "  nums=list(map(int,input().split()))\n",
        "  res=(sum(nums)-max(nums)-min(nums))/8\n",
        "\n",
        "  print(f'#{t} {int(round(res,0))}')"
      ],
      "metadata": {
        "colab": {
          "base_uri": "https://localhost:8080/"
        },
        "id": "thRSUkELlbr_",
        "outputId": "8d1fb7b8-b9ce-4245-ed37-a5780e1d4857"
      },
      "execution_count": 31,
      "outputs": [
        {
          "output_type": "stream",
          "name": "stdout",
          "text": [
            "3\n",
            "3 17 1 39 8 41 2 32 99 2\n",
            "1 18\n",
            "22 8 5 123 7 2 63 7 3 46\n",
            "2 20\n",
            "6 63 2 3 58 76 21 33 8 1\n",
            "3 24\n"
          ]
        }
      ]
    },
    {
      "cell_type": "code",
      "source": [
        "# 1983. 조교의 성적 매기기\n",
        "# 1시간 넘겼는데 통계쪽은 약하다 일단 패스\n",
        "\n",
        "scores=[\"A+\",\"A0\",\"A-\",\"B+\",\"B0\",\"B-\",\"C+\",\"C0\",\"C-\",\"D0\"]\n",
        "std_data=[]\n",
        "T=int(input())\n",
        "\n",
        "for t in range(1,T+1):\n",
        "  N,K=map(int,input().split()) # 학생수 N, 알고싶은 번호 K\n",
        "\n",
        "  for std in range(1,N+1):\n",
        "    mid,las,asg=map(int,input().split()) # 학생 총점정보 입력\n",
        "    std_data.append(mid*0.35+las*0.45+asg*0.2) # 걍 누적\n",
        "\n",
        "\n",
        "  # if std_data[K-1]/(sum(std_data)/10)>int(std_data[K-1]/(sum(std_data)//10)): # 분기 넘으면\n",
        "  #   print(f'#{t} {scores[int(std_data[K-1]/(sum(std_data)//10))+1]}')\n",
        "\n",
        "  if (std_data[K-1]-min(std_data)) / (max(std_data)-min(std_data)/10) > int(std_data[K-1]-min(std_data))/(max(std_data)-min(std_data)/10):\n",
        "    print(f'#{t} {scores[int(std_data[K-1]-min(std_data)/(max(std_data)-min(std_data)/10))+1]}');\n",
        "\n",
        "print(std_data)"
      ],
      "metadata": {
        "colab": {
          "base_uri": "https://localhost:8080/",
          "height": 469
        },
        "id": "SeljueGKltDs",
        "outputId": "b7dbaa2e-3004-480e-ff00-9e818ca02c0d"
      },
      "execution_count": 55,
      "outputs": [
        {
          "name": "stdout",
          "output_type": "stream",
          "text": [
            "1\n",
            "10 2\n",
            "87 59 88\n",
            "99 94 78\n",
            "94 86 86\n",
            "99 100 99\n",
            "69 76 70\n",
            "76 89 96\n",
            "98 95 96\n",
            "74 69 60\n",
            "98 84 67\n",
            "85 84 91\n"
          ]
        },
        {
          "output_type": "error",
          "ename": "IndexError",
          "evalue": "ignored",
          "traceback": [
            "\u001b[0;31m---------------------------------------------------------------------------\u001b[0m",
            "\u001b[0;31mIndexError\u001b[0m                                Traceback (most recent call last)",
            "\u001b[0;32m<ipython-input-55-6a9e397e6207>\u001b[0m in \u001b[0;36m<module>\u001b[0;34m\u001b[0m\n\u001b[1;32m     15\u001b[0m \u001b[0;34m\u001b[0m\u001b[0m\n\u001b[1;32m     16\u001b[0m   \u001b[0;32mif\u001b[0m \u001b[0;34m(\u001b[0m\u001b[0mstd_data\u001b[0m\u001b[0;34m[\u001b[0m\u001b[0mK\u001b[0m\u001b[0;34m-\u001b[0m\u001b[0;36m1\u001b[0m\u001b[0;34m]\u001b[0m\u001b[0;34m-\u001b[0m\u001b[0mmin\u001b[0m\u001b[0;34m(\u001b[0m\u001b[0mstd_data\u001b[0m\u001b[0;34m)\u001b[0m\u001b[0;34m)\u001b[0m \u001b[0;34m/\u001b[0m \u001b[0;34m(\u001b[0m\u001b[0mmax\u001b[0m\u001b[0;34m(\u001b[0m\u001b[0mstd_data\u001b[0m\u001b[0;34m)\u001b[0m\u001b[0;34m-\u001b[0m\u001b[0mmin\u001b[0m\u001b[0;34m(\u001b[0m\u001b[0mstd_data\u001b[0m\u001b[0;34m)\u001b[0m\u001b[0;34m/\u001b[0m\u001b[0;36m10\u001b[0m\u001b[0;34m)\u001b[0m \u001b[0;34m>\u001b[0m \u001b[0mint\u001b[0m\u001b[0;34m(\u001b[0m\u001b[0mstd_data\u001b[0m\u001b[0;34m[\u001b[0m\u001b[0mK\u001b[0m\u001b[0;34m-\u001b[0m\u001b[0;36m1\u001b[0m\u001b[0;34m]\u001b[0m\u001b[0;34m-\u001b[0m\u001b[0mmin\u001b[0m\u001b[0;34m(\u001b[0m\u001b[0mstd_data\u001b[0m\u001b[0;34m)\u001b[0m\u001b[0;34m)\u001b[0m\u001b[0;34m/\u001b[0m\u001b[0;34m(\u001b[0m\u001b[0mmax\u001b[0m\u001b[0;34m(\u001b[0m\u001b[0mstd_data\u001b[0m\u001b[0;34m)\u001b[0m\u001b[0;34m-\u001b[0m\u001b[0mmin\u001b[0m\u001b[0;34m(\u001b[0m\u001b[0mstd_data\u001b[0m\u001b[0;34m)\u001b[0m\u001b[0;34m/\u001b[0m\u001b[0;36m10\u001b[0m\u001b[0;34m)\u001b[0m\u001b[0;34m:\u001b[0m\u001b[0;34m\u001b[0m\u001b[0;34m\u001b[0m\u001b[0m\n\u001b[0;32m---> 17\u001b[0;31m     \u001b[0mprint\u001b[0m\u001b[0;34m(\u001b[0m\u001b[0;34mf'#{t} {scores[int(std_data[K-1]-min(std_data)/(max(std_data)-min(std_data)/10))+1]}'\u001b[0m\u001b[0;34m)\u001b[0m\u001b[0;34m;\u001b[0m\u001b[0;34m\u001b[0m\u001b[0;34m\u001b[0m\u001b[0m\n\u001b[0m\u001b[1;32m     18\u001b[0m \u001b[0;34m\u001b[0m\u001b[0m\n\u001b[1;32m     19\u001b[0m \u001b[0mprint\u001b[0m\u001b[0;34m(\u001b[0m\u001b[0mstd_data\u001b[0m\u001b[0;34m)\u001b[0m\u001b[0;34m\u001b[0m\u001b[0;34m\u001b[0m\u001b[0m\n",
            "\u001b[0;31mIndexError\u001b[0m: list index out of range"
          ]
        }
      ]
    },
    {
      "cell_type": "code",
      "source": [
        "test=[74.6, 92.55000000000001, 88.8, 99.45, 72.35, 85.85000000000001, 96.25, 68.95, 85.5, 85.75]\n",
        "sum(test)/10"
      ],
      "metadata": {
        "colab": {
          "base_uri": "https://localhost:8080/"
        },
        "id": "3yQbePRsvQjJ",
        "outputId": "f64c05a9-3f1c-4af2-e6ef-c38aead0b4ff"
      },
      "execution_count": 51,
      "outputs": [
        {
          "output_type": "execute_result",
          "data": {
            "text/plain": [
              "85.00500000000001"
            ]
          },
          "metadata": {},
          "execution_count": 51
        }
      ]
    },
    {
      "cell_type": "code",
      "source": [
        "min+(max-min/10)"
      ],
      "metadata": {
        "id": "OL3DAsMxv4it"
      },
      "execution_count": null,
      "outputs": []
    }
  ]
}