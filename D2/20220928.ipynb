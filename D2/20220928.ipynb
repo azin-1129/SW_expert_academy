{
 "cells": [
  {
   "cell_type": "code",
   "execution_count": 8,
   "metadata": {},
   "outputs": [
    {
     "name": "stdout",
     "output_type": "stream",
     "text": [
      "1\n",
      "1\n",
      "10 7 6\n",
      "#1 0\n"
     ]
    }
   ],
   "source": [
    "T=int(input())\n",
    "\n",
    "for t in range(1,T+1):\n",
    "    N=int(input())\n",
    "    costs=list(map(int,input().split()))\n",
    "    \n",
    "    count,res,temp=0,0,0\n",
    "    \n",
    "    for i in range(0,len(costs)-1):\n",
    "        if costs[i]<=costs[i+1]:\n",
    "            temp+=costs[i] # 산 가격\n",
    "            count+=1 # 산 갯수\n",
    "            \n",
    "            if i==len(costs)-2:\n",
    "                res+=costs[i+1]*count-temp\n",
    "                temp=0\n",
    "                count=0\n",
    "        else:\n",
    "            res+=costs[i]*count-temp\n",
    "            temp=0\n",
    "            count=0\n",
    "            \n",
    "    print(\"#%d %d\"%(t,res))\n",
    "    \n",
    "    # 실패. 예시엔 들어 맞았지만 분기가 많아 100만 리스트를 감당하기 힘들었던 듯"
   ]
  },
  {
   "cell_type": "code",
   "execution_count": null,
   "metadata": {},
   "outputs": [],
   "source": []
  }
 ],
 "metadata": {
  "kernelspec": {
   "display_name": "Python 3",
   "language": "python",
   "name": "python3"
  },
  "language_info": {
   "codemirror_mode": {
    "name": "ipython",
    "version": 3
   },
   "file_extension": ".py",
   "mimetype": "text/x-python",
   "name": "python",
   "nbconvert_exporter": "python",
   "pygments_lexer": "ipython3",
   "version": "3.8.3"
  }
 },
 "nbformat": 4,
 "nbformat_minor": 4
}
