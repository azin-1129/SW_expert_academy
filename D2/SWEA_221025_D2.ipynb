{
  "nbformat": 4,
  "nbformat_minor": 0,
  "metadata": {
    "colab": {
      "provenance": [],
      "collapsed_sections": []
    },
    "kernelspec": {
      "name": "python3",
      "display_name": "Python 3"
    },
    "language_info": {
      "name": "python"
    }
  },
  "cells": [
    {
      "cell_type": "code",
      "execution_count": null,
      "metadata": {
        "colab": {
          "base_uri": "https://localhost:8080/"
        },
        "id": "5wAHVdZJ0t5h",
        "outputId": "fdd0b35f-c096-4024-efe6-5c9e90a1013b"
      },
      "outputs": [
        {
          "output_type": "stream",
          "name": "stdout",
          "text": [
            "2\n",
            "32850\n",
            "#1\n",
            "0 3 0 2 1 3 1 0\n",
            "160\n",
            "#2\n",
            "0 0 0 0 0 1 1 1\n"
          ]
        }
      ],
      "source": [
        "# 1970. 쉬운 거스름돈\n",
        "# 12분 30초 소요\n",
        "\n",
        "moneys=[50000,10000,5000,1000,500,100,50,10]\n",
        "T=int(input())\n",
        "\n",
        "for t in range(1,T+1):\n",
        "  N=int(input()) # 돈\n",
        "  result=[0]*len(moneys)\n",
        "\n",
        "  for i in range(len(moneys)):\n",
        "    if N>=moneys[i]:\n",
        "      result[i]+=N//moneys[i]\n",
        "      N%=moneys[i]\n",
        "    if N==0:\n",
        "      break\n",
        "\n",
        "  print(f'#{t}')\n",
        "  print(*result)"
      ]
    },
    {
      "cell_type": "code",
      "source": [
        "# 1966. 숫자를 정렬하자\n",
        "# 7분 소요\n",
        "T=int(input())\n",
        "\n",
        "for t in range(1,T+1):\n",
        "  N=int(input())\n",
        "  nums=list(map(int,input().split()))\n",
        "  nums.sort()\n",
        "  print(f'#{t}',*nums)"
      ],
      "metadata": {
        "colab": {
          "base_uri": "https://localhost:8080/"
        },
        "id": "bXWIHc0Z341C",
        "outputId": "e063c0b5-88ab-4d8d-dba7-b2efc3aae937"
      },
      "execution_count": null,
      "outputs": [
        {
          "output_type": "stream",
          "name": "stdout",
          "text": [
            "1\n",
            "1\n",
            "1 4 7 8 0\n",
            "#1 0 1 4 7 8\n"
          ]
        }
      ]
    },
    {
      "cell_type": "code",
      "source": [
        "# 1961. 숫자 배열 회전\n",
        "# 1시간 남짓 소요\n",
        "T=int(input())\n",
        "\n",
        "for t in range(1,T+1):\n",
        "  result=[]\n",
        "  test=[]\n",
        "\n",
        "  N=int(input())\n",
        "\n",
        "  for i in range(N):\n",
        "    test.append(list(map(int,input().split())))\n",
        "  for i in range(3):  \n",
        "    temps=[]\n",
        "    for i in range(0,len(test)):\n",
        "      temp=[]\n",
        "      for j in range(len(test[0])-1,-1,-1):\n",
        "        temp.append(test[j][i])\n",
        "      temps.append(temp) # temps 맵에 메인맵 90도 회전한 값 부여\n",
        "    result.append(temps)\n",
        "\n",
        "    #print('temp:',temps,'test:',test)\n",
        "\n",
        "    for i in range(len(test)):\n",
        "      for j in range(len(test[0])):\n",
        "        test[i][j]=temps[i][j] # temps 맵을 메인에 대입\n",
        "\n",
        "    #print('test:',test)\n",
        "    \n",
        "  #print('result:',result)\n",
        "  print(f'#{t}')\n",
        "  for i in range(N):\n",
        "    print(''.join(map(str,result[0][i])),''.join(map(str,result[1][i])),''.join(map(str,result[2][i])))"
      ],
      "metadata": {
        "colab": {
          "base_uri": "https://localhost:8080/"
        },
        "id": "3hebPb_b50CT",
        "outputId": "9c13fee1-ab53-4f2a-cac5-49468c0fc32a"
      },
      "execution_count": null,
      "outputs": [
        {
          "output_type": "stream",
          "name": "stdout",
          "text": [
            "2\n",
            "3\n",
            "1 2 3\n",
            "4 5 6\n",
            "7 8 9\n",
            "#1\n",
            "741 987 369\n",
            "852 654 258\n",
            "963 321 147\n",
            "6\n",
            "6 9 4 7 0 5\n",
            "8 9 9 2 6 5\n",
            "6 8 5 4 9 8\n",
            "2 2 7 7 8 4\n",
            "7 5 1 9 7 9\n",
            "8 9 3 9 7 6\n",
            "#2\n",
            "872686 679398 558496\n",
            "952899 979157 069877\n",
            "317594 487722 724799\n",
            "997427 894586 495713\n",
            "778960 562998 998259\n",
            "694855 507496 686278\n"
          ]
        }
      ]
    },
    {
      "cell_type": "code",
      "source": [
        "# 1959. 두 개의 숫자열\n",
        "# 15분 소요\n",
        "\n",
        "T=int(input())\n",
        "\n",
        "for t in range(1,T+1):\n",
        "  N,M=map(int,input().split())\n",
        "\n",
        "  A=list(map(int,input().split()))\n",
        "  B=list(map(int,input().split()))\n",
        "\n",
        "  if len(A)<len(B):\n",
        "    long_l=B\n",
        "    short_l=A\n",
        "  elif len(A)>len(B):\n",
        "    long_l=A\n",
        "    short_l=B\n",
        "  else:\n",
        "    long_l=A\n",
        "    short_l=B\n",
        "\n",
        "  res=0\n",
        "\n",
        "  print('long:',long_l,'short:',short_l)\n",
        "  for i in range(0,len(long_l)-len(short_l)+1):\n",
        "    temp=0\n",
        "    for j in range(len(short_l)):\n",
        "      temp+=long_l[i+j]*short_l[j]\n",
        "    #print(f'{i}번째 temp:{temp}')\n",
        "    if temp>res:\n",
        "      res=temp\n",
        "\n",
        "  print(f'#{t} {res}')"
      ],
      "metadata": {
        "colab": {
          "base_uri": "https://localhost:8080/"
        },
        "id": "knn5sOtCBCoy",
        "outputId": "be5f3fa4-8317-41e1-cd30-3ca3eb36571b"
      },
      "execution_count": null,
      "outputs": [
        {
          "output_type": "stream",
          "name": "stdout",
          "text": [
            "2\n",
            "3 5\n",
            "1 5 3\n",
            "3 6 -7 5 4\n",
            "long: [3, 6, -7, 5, 4] short: [1, 5, 3]\n",
            "0번째 temp:12\n",
            "1번째 temp:-14\n",
            "2번째 temp:30\n",
            "#1 30\n",
            "7 6\n",
            "6 0 5 5 -1 1 6\n",
            "-4 1 8 7 -9 3\n",
            "long: [6, 0, 5, 5, -1, 1, 6] short: [-4, 1, 8, 7, -9, 3]\n",
            "0번째 temp:63\n",
            "1번째 temp:47\n",
            "#2 63\n"
          ]
        }
      ]
    },
    {
      "cell_type": "code",
      "source": [
        "# 내가 짠 프로그램이 이상하지만 최선을 다하고 있다\n",
        "# 1954. 달팽이 숫자\n",
        "# 40분 소요 결과\n",
        "\n",
        "N=int(input())\n",
        "snail=[[0]*N for _ in range(N)]\n",
        "\n",
        "x,y=0,0\n",
        "direc=0\n",
        "i=2\n",
        "snail[0][0]=1\n",
        "dx=[0,1,0,-1]\n",
        "dy=[1,0,-1,0]\n",
        "try_count=0\n",
        "\n",
        "while True:\n",
        "  if direc>3:\n",
        "    direc=0\n",
        "\n",
        "  print('현재 i는',i,'입니다.',direc,'방향 탐색 시도중')\n",
        "  if try_count==4:\n",
        "    print(\"뒤짐\")\n",
        "    break\n",
        "\n",
        "  new_x=x+dx[direc]\n",
        "  new_y=y+dy[direc]\n",
        "  print(new_x,new_y,'탐색 중입니다')\n",
        "  if new_x<0 or new_y<0 or new_x>=N or new_y>=N:\n",
        "    direc+=1\n",
        "    try_count+=1\n",
        "    continue\n",
        "  else: # 범위에 맞는 선택\n",
        "    x=new_x\n",
        "    y=new_y\n",
        "    if snail[x][y]!=0: # 이미 있으면\n",
        "      direc+=1\n",
        "      try_count+=1\n",
        "      continue\n",
        "\n",
        "    snail[x][y]=i\n",
        "    try_count=0\n",
        "    i+=1\n",
        "\n",
        "    new_x=x+dx[direc] # 조사 영역\n",
        "    new_y=y+dy[direc]\n",
        "\n",
        "    if new_x<0 or new_y<0 or new_x>=N or new_y>=N: # 공간 널널하면\n",
        "      continue\n",
        "    else:\n",
        "      print('이쪽 방향 뒤에 공간이 있는듯 한데요.')\n",
        "  \n",
        "for sn in snail:\n",
        "  #print(''.join(map(str,sn)))\n",
        "  print(sn)"
      ],
      "metadata": {
        "colab": {
          "base_uri": "https://localhost:8080/"
        },
        "id": "ABpGV3kzMokX",
        "outputId": "49725c6a-54c4-478e-a743-018775974d11"
      },
      "execution_count": null,
      "outputs": [
        {
          "output_type": "stream",
          "name": "stdout",
          "text": [
            "4\n",
            "현재 i는 2 입니다. 0 방향 탐색 시도중\n",
            "0 1 탐색 중입니다\n",
            "이쪽 방향 뒤에 공간이 있는듯 한데요.\n",
            "현재 i는 3 입니다. 0 방향 탐색 시도중\n",
            "0 2 탐색 중입니다\n",
            "이쪽 방향 뒤에 공간이 있는듯 한데요.\n",
            "현재 i는 4 입니다. 0 방향 탐색 시도중\n",
            "0 3 탐색 중입니다\n",
            "현재 i는 5 입니다. 0 방향 탐색 시도중\n",
            "0 4 탐색 중입니다\n",
            "현재 i는 5 입니다. 1 방향 탐색 시도중\n",
            "1 3 탐색 중입니다\n",
            "이쪽 방향 뒤에 공간이 있는듯 한데요.\n",
            "현재 i는 6 입니다. 1 방향 탐색 시도중\n",
            "2 3 탐색 중입니다\n",
            "이쪽 방향 뒤에 공간이 있는듯 한데요.\n",
            "현재 i는 7 입니다. 1 방향 탐색 시도중\n",
            "3 3 탐색 중입니다\n",
            "현재 i는 8 입니다. 1 방향 탐색 시도중\n",
            "4 3 탐색 중입니다\n",
            "현재 i는 8 입니다. 2 방향 탐색 시도중\n",
            "3 2 탐색 중입니다\n",
            "이쪽 방향 뒤에 공간이 있는듯 한데요.\n",
            "현재 i는 9 입니다. 2 방향 탐색 시도중\n",
            "3 1 탐색 중입니다\n",
            "이쪽 방향 뒤에 공간이 있는듯 한데요.\n",
            "현재 i는 10 입니다. 2 방향 탐색 시도중\n",
            "3 0 탐색 중입니다\n",
            "현재 i는 11 입니다. 2 방향 탐색 시도중\n",
            "3 -1 탐색 중입니다\n",
            "현재 i는 11 입니다. 3 방향 탐색 시도중\n",
            "2 0 탐색 중입니다\n",
            "이쪽 방향 뒤에 공간이 있는듯 한데요.\n",
            "현재 i는 12 입니다. 3 방향 탐색 시도중\n",
            "1 0 탐색 중입니다\n",
            "이쪽 방향 뒤에 공간이 있는듯 한데요.\n",
            "현재 i는 13 입니다. 3 방향 탐색 시도중\n",
            "0 0 탐색 중입니다\n",
            "현재 i는 13 입니다. 0 방향 탐색 시도중\n",
            "0 1 탐색 중입니다\n",
            "현재 i는 13 입니다. 1 방향 탐색 시도중\n",
            "1 1 탐색 중입니다\n",
            "이쪽 방향 뒤에 공간이 있는듯 한데요.\n",
            "현재 i는 14 입니다. 1 방향 탐색 시도중\n",
            "2 1 탐색 중입니다\n",
            "이쪽 방향 뒤에 공간이 있는듯 한데요.\n",
            "현재 i는 15 입니다. 1 방향 탐색 시도중\n",
            "3 1 탐색 중입니다\n",
            "현재 i는 15 입니다. 2 방향 탐색 시도중\n",
            "3 0 탐색 중입니다\n",
            "현재 i는 15 입니다. 3 방향 탐색 시도중\n",
            "2 0 탐색 중입니다\n",
            "현재 i는 15 입니다. 0 방향 탐색 시도중\n",
            "2 1 탐색 중입니다\n",
            "현재 i는 15 입니다. 1 방향 탐색 시도중\n",
            "뒤짐\n",
            "[1, 2, 3, 4]\n",
            "[12, 13, 0, 5]\n",
            "[11, 14, 0, 6]\n",
            "[10, 9, 8, 7]\n"
          ]
        }
      ]
    },
    {
      "cell_type": "code",
      "source": [
        "# 1948. 날짜 계산기\n",
        "# 18분 소요\n",
        "\n",
        "limit=[31,28,31,30,31,30,31,31,30,31,30,31]\n",
        "\n",
        "T=int(input())\n",
        "\n",
        "for t in range(1,T+1):\n",
        "  day1,day2=0,0\n",
        "  m1,d1,m2,d2=map(int,input().split())\n",
        "\n",
        "  for i in range(0,m1-1):\n",
        "    day1+=limit[i]\n",
        "\n",
        "  day1+=d1\n",
        "\n",
        "  for i in range(0,m2-1):\n",
        "    day2+=limit[i]\n",
        "\n",
        "  day2+=d2\n",
        "\n",
        "  print(f'#{t} {abs(day1-day2)+1}')"
      ],
      "metadata": {
        "id": "ii8siHDORTxh",
        "colab": {
          "base_uri": "https://localhost:8080/"
        },
        "outputId": "4f8253dc-ca2d-49ff-864e-7368fbf64056"
      },
      "execution_count": 8,
      "outputs": [
        {
          "output_type": "stream",
          "name": "stdout",
          "text": [
            "3\n",
            "3 1 3 31\n",
            "#1 31\n",
            "5 5 8 15\n",
            "#2 103\n",
            "7 17 12 24\n",
            "#3 161\n"
          ]
        }
      ]
    },
    {
      "cell_type": "code",
      "source": [
        "# 1946.압축 풀기\n",
        "# 16분 소요\n",
        "\n",
        "T=int(input())\n",
        "\n",
        "for t in range(1,T+1):\n",
        "  string=\"\"\n",
        "  N=int(input())\n",
        "  for i in range(N):\n",
        "    alpha,count=input().split()\n",
        "    string+=alpha*int(count)\n",
        "\n",
        "  print(f'#{t}')\n",
        "  for i in range(0,len(string),10):\n",
        "    print(string[i:i+10])\n"
      ],
      "metadata": {
        "colab": {
          "base_uri": "https://localhost:8080/"
        },
        "id": "xe8dMRXH1Frz",
        "outputId": "d70c94e6-759c-40ff-96aa-0a7c35cd44f4"
      },
      "execution_count": 16,
      "outputs": [
        {
          "output_type": "stream",
          "name": "stdout",
          "text": [
            "1\n",
            "3\n",
            "A 10\n",
            "B 7\n",
            "C 5\n",
            "#1\n",
            "AAAAAAAAAA\n",
            "BBBBBBBCCC\n",
            "CC\n"
          ]
        }
      ]
    },
    {
      "cell_type": "code",
      "source": [
        "# 1945. 간단한 소인수분해\n",
        "# 12분 소요\n",
        "\n",
        "soinsoo=[2,3,5,7,11]\n",
        "T=int(input())\n",
        "\n",
        "for t in range(1,T+1):\n",
        "  N=int(input())\n",
        "  res=[0]*5\n",
        "\n",
        "  for so in soinsoo:\n",
        "    count=0\n",
        "\n",
        "    while True:\n",
        "      if N%so!=0:\n",
        "        res[soinsoo.index(so)]=count\n",
        "        break\n",
        "      \n",
        "      N//=so\n",
        "      count+=1\n",
        "\n",
        "  print(f'#{t}',*res)"
      ],
      "metadata": {
        "colab": {
          "base_uri": "https://localhost:8080/"
        },
        "id": "l3CRFJbA5MPP",
        "outputId": "a9a26a82-6a1f-4804-d5ce-e3e3b3e9da06"
      },
      "execution_count": 19,
      "outputs": [
        {
          "output_type": "stream",
          "name": "stdout",
          "text": [
            "10\n",
            "6791400\n",
            "#1 3 2 2 3 1\n",
            "1646400\n",
            "#2 6 1 2 3 0\n",
            "1425600\n",
            "#3 6 4 2 0 1\n",
            "8575\n",
            "#4 0 0 2 3 0\n",
            "185625\n",
            "#5 0 3 4 0 1\n",
            "6480\n",
            "#6 4 4 1 0 0\n",
            "1185408\n",
            "#7 7 3 0 3 0\n",
            "6561\n",
            "#8 0 8 0 0 0\n",
            "25\n",
            "#9 0 0 2 0 0\n",
            "330750\n",
            "#10 1 3 3 2 0\n"
          ]
        }
      ]
    },
    {
      "cell_type": "code",
      "source": [
        "# 1940. 가랏! RC카!\n",
        "# 13분 소요\n",
        "\n",
        "T=int(input())\n",
        "\n",
        "for t in range(1,T+1):\n",
        "  N=int(input())\n",
        "\n",
        "  dist,speed=0,0\n",
        "\n",
        "  for _ in range(N): # command\n",
        "    flag_or_sp=list(map(int,input().split()))\n",
        "\n",
        "    if flag_or_sp[0]==1: # 가속\n",
        "      speed+=flag_or_sp[1]\n",
        "      dist+=speed\n",
        "    elif flag_or_sp[0]==2: # 감속\n",
        "      if speed<flag_or_sp[1]:\n",
        "        speed=0\n",
        "        continue\n",
        "      speed-=flag_or_sp[1]\n",
        "      dist+=speed\n",
        "    else: # 유지\n",
        "      dist+=speed\n",
        "\n",
        "  print(f'#{t}',dist)"
      ],
      "metadata": {
        "colab": {
          "base_uri": "https://localhost:8080/",
          "height": 586
        },
        "id": "6J9bM8pm9NMQ",
        "outputId": "25c58bba-44ab-4bbf-a9fc-5218fdb00c4f"
      },
      "execution_count": 23,
      "outputs": [
        {
          "output_type": "stream",
          "name": "stdout",
          "text": [
            "10\n",
            "2\n",
            "1 2\n",
            "2 1\n",
            "#1 3\n",
            "3\n",
            "1 1\n",
            "0\n",
            "1 1\n",
            "#2 4\n"
          ]
        },
        {
          "output_type": "error",
          "ename": "KeyboardInterrupt",
          "evalue": "ignored",
          "traceback": [
            "\u001b[0;31m---------------------------------------------------------------------------\u001b[0m",
            "\u001b[0;31mKeyboardInterrupt\u001b[0m                         Traceback (most recent call last)",
            "\u001b[0;32m<ipython-input-23-a4cf26618be5>\u001b[0m in \u001b[0;36m<module>\u001b[0;34m\u001b[0m\n\u001b[1;32m      2\u001b[0m \u001b[0;34m\u001b[0m\u001b[0m\n\u001b[1;32m      3\u001b[0m \u001b[0;32mfor\u001b[0m \u001b[0mt\u001b[0m \u001b[0;32min\u001b[0m \u001b[0mrange\u001b[0m\u001b[0;34m(\u001b[0m\u001b[0;36m1\u001b[0m\u001b[0;34m,\u001b[0m\u001b[0mT\u001b[0m\u001b[0;34m+\u001b[0m\u001b[0;36m1\u001b[0m\u001b[0;34m)\u001b[0m\u001b[0;34m:\u001b[0m\u001b[0;34m\u001b[0m\u001b[0;34m\u001b[0m\u001b[0m\n\u001b[0;32m----> 4\u001b[0;31m   \u001b[0mN\u001b[0m\u001b[0;34m=\u001b[0m\u001b[0mint\u001b[0m\u001b[0;34m(\u001b[0m\u001b[0minput\u001b[0m\u001b[0;34m(\u001b[0m\u001b[0;34m)\u001b[0m\u001b[0;34m)\u001b[0m\u001b[0;34m\u001b[0m\u001b[0;34m\u001b[0m\u001b[0m\n\u001b[0m\u001b[1;32m      5\u001b[0m \u001b[0;34m\u001b[0m\u001b[0m\n\u001b[1;32m      6\u001b[0m   \u001b[0mdist\u001b[0m\u001b[0;34m,\u001b[0m\u001b[0mspeed\u001b[0m\u001b[0;34m=\u001b[0m\u001b[0;36m0\u001b[0m\u001b[0;34m,\u001b[0m\u001b[0;36m0\u001b[0m\u001b[0;34m\u001b[0m\u001b[0;34m\u001b[0m\u001b[0m\n",
            "\u001b[0;32m/usr/local/lib/python3.7/dist-packages/ipykernel/kernelbase.py\u001b[0m in \u001b[0;36mraw_input\u001b[0;34m(self, prompt)\u001b[0m\n\u001b[1;32m    861\u001b[0m             \u001b[0mself\u001b[0m\u001b[0;34m.\u001b[0m\u001b[0m_parent_ident\u001b[0m\u001b[0;34m,\u001b[0m\u001b[0;34m\u001b[0m\u001b[0;34m\u001b[0m\u001b[0m\n\u001b[1;32m    862\u001b[0m             \u001b[0mself\u001b[0m\u001b[0;34m.\u001b[0m\u001b[0m_parent_header\u001b[0m\u001b[0;34m,\u001b[0m\u001b[0;34m\u001b[0m\u001b[0;34m\u001b[0m\u001b[0m\n\u001b[0;32m--> 863\u001b[0;31m             \u001b[0mpassword\u001b[0m\u001b[0;34m=\u001b[0m\u001b[0;32mFalse\u001b[0m\u001b[0;34m,\u001b[0m\u001b[0;34m\u001b[0m\u001b[0;34m\u001b[0m\u001b[0m\n\u001b[0m\u001b[1;32m    864\u001b[0m         )\n\u001b[1;32m    865\u001b[0m \u001b[0;34m\u001b[0m\u001b[0m\n",
            "\u001b[0;32m/usr/local/lib/python3.7/dist-packages/ipykernel/kernelbase.py\u001b[0m in \u001b[0;36m_input_request\u001b[0;34m(self, prompt, ident, parent, password)\u001b[0m\n\u001b[1;32m    902\u001b[0m             \u001b[0;32mexcept\u001b[0m \u001b[0mKeyboardInterrupt\u001b[0m\u001b[0;34m:\u001b[0m\u001b[0;34m\u001b[0m\u001b[0;34m\u001b[0m\u001b[0m\n\u001b[1;32m    903\u001b[0m                 \u001b[0;31m# re-raise KeyboardInterrupt, to truncate traceback\u001b[0m\u001b[0;34m\u001b[0m\u001b[0;34m\u001b[0m\u001b[0;34m\u001b[0m\u001b[0m\n\u001b[0;32m--> 904\u001b[0;31m                 \u001b[0;32mraise\u001b[0m \u001b[0mKeyboardInterrupt\u001b[0m\u001b[0;34m(\u001b[0m\u001b[0;34m\"Interrupted by user\"\u001b[0m\u001b[0;34m)\u001b[0m \u001b[0;32mfrom\u001b[0m \u001b[0;32mNone\u001b[0m\u001b[0;34m\u001b[0m\u001b[0;34m\u001b[0m\u001b[0m\n\u001b[0m\u001b[1;32m    905\u001b[0m             \u001b[0;32mexcept\u001b[0m \u001b[0mException\u001b[0m \u001b[0;32mas\u001b[0m \u001b[0me\u001b[0m\u001b[0;34m:\u001b[0m\u001b[0;34m\u001b[0m\u001b[0;34m\u001b[0m\u001b[0m\n\u001b[1;32m    906\u001b[0m                 \u001b[0mself\u001b[0m\u001b[0;34m.\u001b[0m\u001b[0mlog\u001b[0m\u001b[0;34m.\u001b[0m\u001b[0mwarning\u001b[0m\u001b[0;34m(\u001b[0m\u001b[0;34m\"Invalid Message:\"\u001b[0m\u001b[0;34m,\u001b[0m \u001b[0mexc_info\u001b[0m\u001b[0;34m=\u001b[0m\u001b[0;32mTrue\u001b[0m\u001b[0;34m)\u001b[0m\u001b[0;34m\u001b[0m\u001b[0;34m\u001b[0m\u001b[0m\n",
            "\u001b[0;31mKeyboardInterrupt\u001b[0m: Interrupted by user"
          ]
        }
      ]
    },
    {
      "cell_type": "code",
      "source": [
        "# 1928. Base64 Decoder\n",
        "# 1시간동안 라이브러리 찾아봤다가 걍 코드 참조해서 이해함.\n",
        "\n",
        "from base64 import b64decode\n",
        "\n",
        "T=int(input())\n",
        "\n",
        "for t in range(1,T+1):\n",
        "  enc=input()\n",
        "  print(f'#{t} {b64decode(enc).decode(\"ascii\")}')"
      ],
      "metadata": {
        "colab": {
          "base_uri": "https://localhost:8080/"
        },
        "id": "a3ByWCPZAcEd",
        "outputId": "21f19ac7-d852-4b5a-e495-052dbbcf8d3a"
      },
      "execution_count": 28,
      "outputs": [
        {
          "output_type": "stream",
          "name": "stdout",
          "text": [
            "1\n",
            "TGlmZSBpdHNlbGYgaXMgYSBxdW90YXRpb24u\n",
            "#1 Life itself is a quotation.\n"
          ]
        }
      ]
    },
    {
      "cell_type": "code",
      "source": [],
      "metadata": {
        "id": "ec89zElWEiWF"
      },
      "execution_count": null,
      "outputs": []
    }
  ]
}