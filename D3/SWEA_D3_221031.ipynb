{
  "nbformat": 4,
  "nbformat_minor": 0,
  "metadata": {
    "colab": {
      "provenance": [],
      "collapsed_sections": []
    },
    "kernelspec": {
      "name": "python3",
      "display_name": "Python 3"
    },
    "language_info": {
      "name": "python"
    }
  },
  "cells": [
    {
      "cell_type": "code",
      "execution_count": null,
      "metadata": {
        "colab": {
          "base_uri": "https://localhost:8080/"
        },
        "id": "DzgNszv4-93j",
        "outputId": "93a8a0b2-d361-48df-8934-d7198b43e4ed"
      },
      "outputs": [
        {
          "output_type": "stream",
          "name": "stdout",
          "text": [
            "1\n",
            "10 65 100 30 95\n",
            "#1 68\n"
          ]
        }
      ],
      "source": [
        "# 3314. 보충학습과 평균\n",
        "# 4분 30초 소요\n",
        "\n",
        "T=int(input())\n",
        "\n",
        "for t in range(1,T+1):\n",
        "  scores=list(map(int,input().split()))\n",
        "\n",
        "  for i in range(5):\n",
        "    if scores[i]<40:\n",
        "      scores[i]=40\n",
        "\n",
        "  print(f'#{t} {sum(scores)//5}')"
      ]
    },
    {
      "cell_type": "code",
      "source": [
        "# 4751. 다솔이의 다이아몬드 장식\n",
        "# 50분 소요\n",
        "\n",
        "tag=[0,1,2,1,0]\n",
        "\n",
        "T=int(input())\n",
        "\n",
        "for t in range(1,T+1):\n",
        "  result=[ [] for _ in range(5)]\n",
        "  string=input()\n",
        "  dot_list=[['.']*5 for _ in range(5)]\n",
        "\n",
        "  for i in range(5):\n",
        "    dot_list[i][2-tag[i]]='#'\n",
        "    dot_list[i][2+tag[i]]='#' # 다이아몬드 #\n",
        "    \n",
        "  dot_list[2][2]=string[0] # 문자열\n",
        "\n",
        "  for i in range(5):\n",
        "    result[i]=dot_list[i]\n",
        "\n",
        "  #print('result1:',result)\n",
        "\n",
        "  ######## 다음 문자열들\n",
        "\n",
        "  for i in range(1,len(string)):\n",
        "    dot_list=[['.']*5 for _ in range(5)]\n",
        "\n",
        "    for j in range(5):\n",
        "      dot_list[j][2-tag[j]]='#'\n",
        "      dot_list[j][2+tag[j]]='#'\n",
        "\n",
        "    dot_list[2][2]=string[i]\n",
        "\n",
        "    for x in range(5):\n",
        "      for y in range(1,5):\n",
        "        result[x].append(dot_list[x][y])\n",
        "\n",
        "  for item in result:\n",
        "    print(''.join(item))"
      ],
      "metadata": {
        "id": "TItF3UN6_1FH",
        "colab": {
          "base_uri": "https://localhost:8080/"
        },
        "outputId": "15ec02b4-35e6-4fe8-bcb5-1ab46271a963"
      },
      "execution_count": null,
      "outputs": [
        {
          "output_type": "stream",
          "name": "stdout",
          "text": [
            "2\n",
            "D\n",
            "..#..\n",
            ".#.#.\n",
            "#.D.#\n",
            ".#.#.\n",
            "..#..\n",
            "APPLE\n",
            "..#...#...#...#...#..\n",
            ".#.#.#.#.#.#.#.#.#.#.\n",
            "#.A.#.P.#.P.#.L.#.E.#\n",
            ".#.#.#.#.#.#.#.#.#.#.\n",
            "..#...#...#...#...#..\n"
          ]
        }
      ]
    },
    {
      "cell_type": "code",
      "source": [
        "result=[[',']*5 for _ in range(5)]\n",
        "result"
      ],
      "metadata": {
        "colab": {
          "base_uri": "https://localhost:8080/"
        },
        "id": "kDigvYCUGzHZ",
        "outputId": "5d794441-ae45-4350-a84d-dab157393f41"
      },
      "execution_count": null,
      "outputs": [
        {
          "output_type": "execute_result",
          "data": {
            "text/plain": [
              "[[',', ',', ',', ',', ','],\n",
              " [',', ',', ',', ',', ','],\n",
              " [',', ',', ',', ',', ','],\n",
              " [',', ',', ',', ',', ','],\n",
              " [',', ',', ',', ',', ',']]"
            ]
          },
          "metadata": {},
          "execution_count": 23
        }
      ]
    },
    {
      "cell_type": "code",
      "source": [
        "result=[ [] for _ in range(5)]\n",
        "result"
      ],
      "metadata": {
        "colab": {
          "base_uri": "https://localhost:8080/"
        },
        "id": "097oRDTFHWLL",
        "outputId": "f096d678-9749-4485-d80a-6d674f3be429"
      },
      "execution_count": null,
      "outputs": [
        {
          "output_type": "execute_result",
          "data": {
            "text/plain": [
              "[[], [], [], [], []]"
            ]
          },
          "metadata": {},
          "execution_count": 9
        }
      ]
    },
    {
      "cell_type": "code",
      "source": [],
      "metadata": {
        "id": "SVz_L0ukHn2G"
      },
      "execution_count": null,
      "outputs": []
    }
  ]
}