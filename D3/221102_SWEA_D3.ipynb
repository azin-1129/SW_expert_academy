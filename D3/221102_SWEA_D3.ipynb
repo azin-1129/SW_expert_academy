{
  "nbformat": 4,
  "nbformat_minor": 0,
  "metadata": {
    "colab": {
      "provenance": [],
      "collapsed_sections": []
    },
    "kernelspec": {
      "name": "python3",
      "display_name": "Python 3"
    },
    "language_info": {
      "name": "python"
    }
  },
  "cells": [
    {
      "cell_type": "code",
      "execution_count": null,
      "metadata": {
        "id": "Al_whxRa9EoX",
        "colab": {
          "base_uri": "https://localhost:8080/"
        },
        "outputId": "82096ea2-21d1-4adf-90d8-88c6cf2955e8"
      },
      "outputs": [
        {
          "output_type": "stream",
          "name": "stdout",
          "text": [
            "2\n",
            "0.8 0.5\n",
            "#1 YES\n",
            "0.6 0.5\n",
            "#2 NO\n"
          ]
        }
      ],
      "source": [
        "# 9700. USB 꽂기의 미스터리\n",
        "# 1시간 소요. 이해가 꽤 걸림\n",
        "\n",
        "T=int(input())\n",
        "\n",
        "for t in range(1,T+1):\n",
        "  p,q=map(float,input().split())\n",
        "\n",
        "  s1=(1-p)*q\n",
        "  s2=p*(1-q)*q\n",
        "\n",
        "  #print(s1,s2)\n",
        "\n",
        "  if s1<s2:\n",
        "    print(f'#{t} YES')\n",
        "  else:\n",
        "    print(f'#{t} NO')"
      ]
    },
    {
      "cell_type": "code",
      "source": [
        "for _ in range(10):\n",
        "  t=int(input())\n",
        "  matrix=[]\n",
        "  for _ in range(100):\n",
        "    matrix.append(list(map(int,input().split())))\n",
        "\n",
        "  row_sum,col_sum,right_d,left_d=0,0,0,0\n",
        "\n",
        "  for row in matrix:\n",
        "    row_sum+=sum(row)\n",
        "    for col in range(100):\n",
        "      col_sum+=row[col][0]\n",
        "\n",
        "  for x in range(100):\n",
        "    right_d+=matrix[x][x]\n",
        "    left_d+=matrix[x][99-x]\n",
        "\n",
        "  print(f'#{t} {max([row_sum,col_sum,right_d,left_d])}')  "
      ],
      "metadata": {
        "id": "ZnKZIWNsJTml",
        "colab": {
          "base_uri": "https://localhost:8080/"
        },
        "outputId": "e6a12894-2480-4f5b-e485-21b44fc6fd97"
      },
      "execution_count": 1,
      "outputs": [
        {
          "output_type": "execute_result",
          "data": {
            "text/plain": [
              "1"
            ]
          },
          "metadata": {},
          "execution_count": 1
        }
      ]
    },
    {
      "cell_type": "code",
      "source": [
        "# 1209. Sum\n",
        "# 17분 소요\n",
        "\n",
        "for _ in range(10):\n",
        "  t=int(input())\n",
        "  matrix=[]\n",
        "  for _ in range(100):\n",
        "    matrix.append(list(map(int,input().split())))\n",
        "\n",
        "  row_sum,col_sum,right_d,left_d=0,0,0,0\n",
        "  for row in matrix:\n",
        "    row_sum=max(row_sum,sum(row))\n",
        "\n",
        "  for x in range(100):\n",
        "    right_d+=matrix[x][x]\n",
        "    left_d+=matrix[x][99-x]\n",
        "    col_temp=0\n",
        "    for y in range(100):\n",
        "        col_temp+=matrix[y][x]\n",
        "    col_sum=max(col_sum,col_temp)\n",
        "\n",
        "  print(f'#{t} {max([row_sum,col_sum,right_d,left_d])}')  "
      ],
      "metadata": {
        "id": "2P8pUXnb8ha0"
      },
      "execution_count": null,
      "outputs": []
    },
    {
      "cell_type": "code",
      "source": [
        "# 4466. 최대 성적표 만들기\n",
        "# 5분 20초 소요\n",
        "\n",
        "T=int(input())\n",
        "\n",
        "for t in range(1,T+1):\n",
        "  N,K=map(int,input().split()) # N개 과목, 최대 K개\n",
        "  scores=map(int,input().split())\n",
        "  max_score=0\n",
        "\n",
        "  scores=sorted(scores,reverse=True)\n",
        "\n",
        "  for i in range(K):\n",
        "    max_score+=scores[i]\n",
        "\n",
        "  print(f'#{t} {max_score}')"
      ],
      "metadata": {
        "colab": {
          "base_uri": "https://localhost:8080/"
        },
        "id": "pmZWg6geBj_-",
        "outputId": "f1a1b347-b7c2-4ac1-c1d3-25d7801fa134"
      },
      "execution_count": 2,
      "outputs": [
        {
          "output_type": "stream",
          "name": "stdout",
          "text": [
            "2\n",
            "3 1\n",
            "100 90 80\n",
            "#1 100\n",
            "3 2\n",
            "100 90 80\n",
            "#2 190\n"
          ]
        }
      ]
    },
    {
      "cell_type": "code",
      "source": [
        "# 3142. 영준이와 신비한 뿔의 숲\n",
        "# 15분 10초 소요. 더 간단하게 할 수 있을 거 같음\n",
        "\n",
        "T=int(input())\n",
        "\n",
        "for t in range(1,T+1):\n",
        "  N,M=map(int,input().split())\n",
        "\n",
        "  unicorn=0\n",
        "\n",
        "  while True:\n",
        "    if N%2!=0:\n",
        "      M-=1\n",
        "      N-=1\n",
        "      unicorn+=1\n",
        "    else:\n",
        "      if 2*M==N:\n",
        "        print(f'#{t} {unicorn} {M}')\n",
        "        break\n",
        "      else:\n",
        "        M-=1\n",
        "        N-=1\n",
        "        unicorn+=1"
      ],
      "metadata": {
        "colab": {
          "base_uri": "https://localhost:8080/"
        },
        "id": "KNQEdj6oB54n",
        "outputId": "23d18fe1-ce21-45df-ced6-ba52dcaa2c0e"
      },
      "execution_count": 5,
      "outputs": [
        {
          "output_type": "stream",
          "name": "stdout",
          "text": [
            "2\n",
            "5 3\n",
            "#1 1 2\n",
            "7 5\n",
            "#2 3 2\n"
          ]
        }
      ]
    },
    {
      "cell_type": "code",
      "source": [
        "# 1208. Flatten\n",
        "# 36분 50초 소요. 인풋을 안 보고 솔루션을 어렵게 잡음.. 2차원으로 풀 줄 앎\n",
        "\n",
        "for t in range(1,11):\n",
        "  dump_count=int(input())\n",
        "  boxes=list(map(int,input().split()))\n",
        "\n",
        "  for _ in range(dump_count):\n",
        "    high=boxes.index(max(boxes))\n",
        "    low=boxes.index(min(boxes))\n",
        "\n",
        "    if boxes.count(min(boxes))==99 or high==low:\n",
        "      break\n",
        "    \n",
        "    boxes[high]-=1\n",
        "    boxes[low]+=1\n",
        "    \n",
        "    #print(boxes)\n",
        "\n",
        "  high=boxes.index(max(boxes))\n",
        "  low=boxes.index(min(boxes))\n",
        "\n",
        "  print(f'#{t} {boxes[high]-boxes[low]}')"
      ],
      "metadata": {
        "colab": {
          "base_uri": "https://localhost:8080/",
          "height": 493
        },
        "id": "I2YpkLLNFITp",
        "outputId": "b23b47d4-2eb0-4c4c-de1c-2ecf193d8e8e"
      },
      "execution_count": 11,
      "outputs": [
        {
          "output_type": "stream",
          "name": "stdout",
          "text": [
            "2\n",
            "5 8 3 1 5 6 9 9 2 2 4\n",
            "[5, 8, 3, 2, 5, 6, 8, 9, 2, 2, 4]\n",
            "[5, 8, 3, 3, 5, 6, 8, 8, 2, 2, 4]\n",
            "#1 6\n"
          ]
        },
        {
          "output_type": "error",
          "ename": "KeyboardInterrupt",
          "evalue": "ignored",
          "traceback": [
            "\u001b[0;31m---------------------------------------------------------------------------\u001b[0m",
            "\u001b[0;31mKeyboardInterrupt\u001b[0m                         Traceback (most recent call last)",
            "\u001b[0;32m<ipython-input-11-d5e10957f4c3>\u001b[0m in \u001b[0;36m<module>\u001b[0;34m\u001b[0m\n\u001b[1;32m      1\u001b[0m \u001b[0;32mfor\u001b[0m \u001b[0mt\u001b[0m \u001b[0;32min\u001b[0m \u001b[0mrange\u001b[0m\u001b[0;34m(\u001b[0m\u001b[0;36m1\u001b[0m\u001b[0;34m,\u001b[0m\u001b[0;36m11\u001b[0m\u001b[0;34m)\u001b[0m\u001b[0;34m:\u001b[0m\u001b[0;34m\u001b[0m\u001b[0;34m\u001b[0m\u001b[0m\n\u001b[0;32m----> 2\u001b[0;31m   \u001b[0mdump_count\u001b[0m\u001b[0;34m=\u001b[0m\u001b[0mint\u001b[0m\u001b[0;34m(\u001b[0m\u001b[0minput\u001b[0m\u001b[0;34m(\u001b[0m\u001b[0;34m)\u001b[0m\u001b[0;34m)\u001b[0m\u001b[0;34m\u001b[0m\u001b[0;34m\u001b[0m\u001b[0m\n\u001b[0m\u001b[1;32m      3\u001b[0m   \u001b[0mboxes\u001b[0m\u001b[0;34m=\u001b[0m\u001b[0mlist\u001b[0m\u001b[0;34m(\u001b[0m\u001b[0mmap\u001b[0m\u001b[0;34m(\u001b[0m\u001b[0mint\u001b[0m\u001b[0;34m,\u001b[0m\u001b[0minput\u001b[0m\u001b[0;34m(\u001b[0m\u001b[0;34m)\u001b[0m\u001b[0;34m.\u001b[0m\u001b[0msplit\u001b[0m\u001b[0;34m(\u001b[0m\u001b[0;34m)\u001b[0m\u001b[0;34m)\u001b[0m\u001b[0;34m)\u001b[0m\u001b[0;34m\u001b[0m\u001b[0;34m\u001b[0m\u001b[0m\n\u001b[1;32m      4\u001b[0m \u001b[0;34m\u001b[0m\u001b[0m\n\u001b[1;32m      5\u001b[0m   \u001b[0;32mfor\u001b[0m \u001b[0m_\u001b[0m \u001b[0;32min\u001b[0m \u001b[0mrange\u001b[0m\u001b[0;34m(\u001b[0m\u001b[0mdump_count\u001b[0m\u001b[0;34m)\u001b[0m\u001b[0;34m:\u001b[0m\u001b[0;34m\u001b[0m\u001b[0;34m\u001b[0m\u001b[0m\n",
            "\u001b[0;32m/usr/local/lib/python3.7/dist-packages/ipykernel/kernelbase.py\u001b[0m in \u001b[0;36mraw_input\u001b[0;34m(self, prompt)\u001b[0m\n\u001b[1;32m    861\u001b[0m             \u001b[0mself\u001b[0m\u001b[0;34m.\u001b[0m\u001b[0m_parent_ident\u001b[0m\u001b[0;34m,\u001b[0m\u001b[0;34m\u001b[0m\u001b[0;34m\u001b[0m\u001b[0m\n\u001b[1;32m    862\u001b[0m             \u001b[0mself\u001b[0m\u001b[0;34m.\u001b[0m\u001b[0m_parent_header\u001b[0m\u001b[0;34m,\u001b[0m\u001b[0;34m\u001b[0m\u001b[0;34m\u001b[0m\u001b[0m\n\u001b[0;32m--> 863\u001b[0;31m             \u001b[0mpassword\u001b[0m\u001b[0;34m=\u001b[0m\u001b[0;32mFalse\u001b[0m\u001b[0;34m,\u001b[0m\u001b[0;34m\u001b[0m\u001b[0;34m\u001b[0m\u001b[0m\n\u001b[0m\u001b[1;32m    864\u001b[0m         )\n\u001b[1;32m    865\u001b[0m \u001b[0;34m\u001b[0m\u001b[0m\n",
            "\u001b[0;32m/usr/local/lib/python3.7/dist-packages/ipykernel/kernelbase.py\u001b[0m in \u001b[0;36m_input_request\u001b[0;34m(self, prompt, ident, parent, password)\u001b[0m\n\u001b[1;32m    902\u001b[0m             \u001b[0;32mexcept\u001b[0m \u001b[0mKeyboardInterrupt\u001b[0m\u001b[0;34m:\u001b[0m\u001b[0;34m\u001b[0m\u001b[0;34m\u001b[0m\u001b[0m\n\u001b[1;32m    903\u001b[0m                 \u001b[0;31m# re-raise KeyboardInterrupt, to truncate traceback\u001b[0m\u001b[0;34m\u001b[0m\u001b[0;34m\u001b[0m\u001b[0;34m\u001b[0m\u001b[0m\n\u001b[0;32m--> 904\u001b[0;31m                 \u001b[0;32mraise\u001b[0m \u001b[0mKeyboardInterrupt\u001b[0m\u001b[0;34m(\u001b[0m\u001b[0;34m\"Interrupted by user\"\u001b[0m\u001b[0;34m)\u001b[0m \u001b[0;32mfrom\u001b[0m \u001b[0;32mNone\u001b[0m\u001b[0;34m\u001b[0m\u001b[0;34m\u001b[0m\u001b[0m\n\u001b[0m\u001b[1;32m    905\u001b[0m             \u001b[0;32mexcept\u001b[0m \u001b[0mException\u001b[0m \u001b[0;32mas\u001b[0m \u001b[0me\u001b[0m\u001b[0;34m:\u001b[0m\u001b[0;34m\u001b[0m\u001b[0;34m\u001b[0m\u001b[0m\n\u001b[1;32m    906\u001b[0m                 \u001b[0mself\u001b[0m\u001b[0;34m.\u001b[0m\u001b[0mlog\u001b[0m\u001b[0;34m.\u001b[0m\u001b[0mwarning\u001b[0m\u001b[0;34m(\u001b[0m\u001b[0;34m\"Invalid Message:\"\u001b[0m\u001b[0;34m,\u001b[0m \u001b[0mexc_info\u001b[0m\u001b[0;34m=\u001b[0m\u001b[0;32mTrue\u001b[0m\u001b[0;34m)\u001b[0m\u001b[0;34m\u001b[0m\u001b[0;34m\u001b[0m\u001b[0m\n",
            "\u001b[0;31mKeyboardInterrupt\u001b[0m: Interrupted by user"
          ]
        }
      ]
    },
    {
      "cell_type": "code",
      "source": [
        "# 10200. 구독자 전쟁\n",
        "# 모르겠다. 별건 아닌 거 같은데\n",
        "# 40분 소요해 패스\n",
        "\n",
        "T=int(input())\n",
        "\n",
        "for t in range(1,T+1):\n",
        "  N,A,B=map(int,input().split())\n",
        "\n",
        "  large=min(A,B)\n",
        "  small=max(A,B)-min(A,B)\n",
        "\n",
        "  if A==B: # 꽉참\n",
        "    small=large\n",
        "  elif A+B>=N: # 인원수 넘는 애들이 최소 동시 구독자일 때\n",
        "    pass\n",
        "  else:\n",
        "    small=0\n",
        "\n",
        "  print(f'#{t} {large} {small}')"
      ],
      "metadata": {
        "colab": {
          "base_uri": "https://localhost:8080/"
        },
        "id": "j71LgpOYMxT6",
        "outputId": "c9051ffa-f5ba-41b4-da39-668ef7d57cd6"
      },
      "execution_count": 21,
      "outputs": [
        {
          "output_type": "stream",
          "name": "stdout",
          "text": [
            "3\n",
            "10 3 5\n",
            "#1 3 0\n",
            "10 7 5\n",
            "#2 5 2\n",
            "100 100 100\n",
            "#3 100 100\n"
          ]
        }
      ]
    },
    {
      "cell_type": "code",
      "source": [
        "# 6692. 다솔이의 월급 상자\n",
        "# 9분 30초 소요\n",
        "\n",
        "T=int(input())\n",
        "\n",
        "for t in range(1,T+1):\n",
        "  N=int(input())\n",
        "  res=0\n",
        "\n",
        "  for _ in range(N):\n",
        "    p,x=map(float,input().split())\n",
        "\n",
        "    res+=p*x\n",
        "\n",
        "  print('#%d %.6f'%(t,res))"
      ],
      "metadata": {
        "colab": {
          "base_uri": "https://localhost:8080/"
        },
        "id": "rK5_HtOlTg_R",
        "outputId": "05e10544-7662-4e3e-c993-447ea3848995"
      },
      "execution_count": 25,
      "outputs": [
        {
          "output_type": "stream",
          "name": "stdout",
          "text": [
            "1\n",
            "2\n",
            "0.3 100\n",
            "0.7 1\n",
            "#1 30.700000\n"
          ]
        }
      ]
    },
    {
      "cell_type": "code",
      "source": [],
      "metadata": {
        "id": "ksxmAyuCauSO"
      },
      "execution_count": null,
      "outputs": []
    }
  ]
}