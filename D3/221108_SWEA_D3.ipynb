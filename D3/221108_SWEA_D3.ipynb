{
  "nbformat": 4,
  "nbformat_minor": 0,
  "metadata": {
    "colab": {
      "provenance": [],
      "collapsed_sections": []
    },
    "kernelspec": {
      "name": "python3",
      "display_name": "Python 3"
    },
    "language_info": {
      "name": "python"
    }
  },
  "cells": [
    {
      "cell_type": "code",
      "source": [
        "# 9480. 민정이와 광직이의 알파벳 공부\n",
        "# 58분 소요. DFS라는데\n",
        "\n",
        "from itertools import combinations\n",
        "\n",
        "T=int(input())\n",
        "comp='abcdefghijklmnopqrstuvwxyz'\n",
        "\n",
        "for t in range(1,T+1):\n",
        "  N=int(input()) # 단어 수\n",
        "\n",
        "  word_list=[]\n",
        "  count=0\n",
        "\n",
        "  for _ in range(N):\n",
        "    word_list.append(input())\n",
        "  \n",
        "  for i in range(1,N+1):\n",
        "    pop_words=list(combinations(word_list,i))\n",
        "    for pop_w in pop_words: # 경우의 수\n",
        "      string=''\n",
        "      string+=''.join(pop_w)\n",
        "      #print(''.join(sorted(set(list(string)))),comp,'비교중')\n",
        "      if comp in ''.join(sorted(set(list(string)))):\n",
        "        count+=1\n",
        "\n",
        "  print(f'#{t} {count}')"
      ],
      "metadata": {
        "colab": {
          "base_uri": "https://localhost:8080/"
        },
        "id": "kfBTHu4tZBvq",
        "outputId": "8584f8f5-820c-448c-80d7-e0e5406f8bb5"
      },
      "execution_count": 54,
      "outputs": [
        {
          "output_type": "stream",
          "name": "stdout",
          "text": [
            "1\n",
            "6\n",
            "abcdefghi\n",
            "jklmnopqr\n",
            "stuvwxyz\n",
            "zyxwvuts\n",
            "rqponmlkj\n",
            "ihgfedcba\n",
            "abcdefghi abcdefghijklmnopqrstuvwxyz 비교중\n",
            "jklmnopqr abcdefghijklmnopqrstuvwxyz 비교중\n",
            "stuvwxyz abcdefghijklmnopqrstuvwxyz 비교중\n",
            "stuvwxyz abcdefghijklmnopqrstuvwxyz 비교중\n",
            "jklmnopqr abcdefghijklmnopqrstuvwxyz 비교중\n",
            "abcdefghi abcdefghijklmnopqrstuvwxyz 비교중\n",
            "abcdefghijklmnopqr abcdefghijklmnopqrstuvwxyz 비교중\n",
            "abcdefghistuvwxyz abcdefghijklmnopqrstuvwxyz 비교중\n",
            "abcdefghistuvwxyz abcdefghijklmnopqrstuvwxyz 비교중\n",
            "abcdefghijklmnopqr abcdefghijklmnopqrstuvwxyz 비교중\n",
            "abcdefghi abcdefghijklmnopqrstuvwxyz 비교중\n",
            "jklmnopqrstuvwxyz abcdefghijklmnopqrstuvwxyz 비교중\n",
            "jklmnopqrstuvwxyz abcdefghijklmnopqrstuvwxyz 비교중\n",
            "jklmnopqr abcdefghijklmnopqrstuvwxyz 비교중\n",
            "abcdefghijklmnopqr abcdefghijklmnopqrstuvwxyz 비교중\n",
            "stuvwxyz abcdefghijklmnopqrstuvwxyz 비교중\n",
            "jklmnopqrstuvwxyz abcdefghijklmnopqrstuvwxyz 비교중\n",
            "abcdefghistuvwxyz abcdefghijklmnopqrstuvwxyz 비교중\n",
            "jklmnopqrstuvwxyz abcdefghijklmnopqrstuvwxyz 비교중\n",
            "abcdefghistuvwxyz abcdefghijklmnopqrstuvwxyz 비교중\n",
            "abcdefghijklmnopqr abcdefghijklmnopqrstuvwxyz 비교중\n",
            "abcdefghijklmnopqrstuvwxyz abcdefghijklmnopqrstuvwxyz 비교중\n",
            "abcdefghijklmnopqrstuvwxyz abcdefghijklmnopqrstuvwxyz 비교중\n",
            "abcdefghijklmnopqr abcdefghijklmnopqrstuvwxyz 비교중\n",
            "abcdefghijklmnopqr abcdefghijklmnopqrstuvwxyz 비교중\n",
            "abcdefghistuvwxyz abcdefghijklmnopqrstuvwxyz 비교중\n",
            "abcdefghijklmnopqrstuvwxyz abcdefghijklmnopqrstuvwxyz 비교중\n",
            "abcdefghistuvwxyz abcdefghijklmnopqrstuvwxyz 비교중\n",
            "abcdefghijklmnopqrstuvwxyz abcdefghijklmnopqrstuvwxyz 비교중\n",
            "abcdefghistuvwxyz abcdefghijklmnopqrstuvwxyz 비교중\n",
            "abcdefghijklmnopqr abcdefghijklmnopqrstuvwxyz 비교중\n",
            "jklmnopqrstuvwxyz abcdefghijklmnopqrstuvwxyz 비교중\n",
            "jklmnopqrstuvwxyz abcdefghijklmnopqrstuvwxyz 비교중\n",
            "abcdefghijklmnopqrstuvwxyz abcdefghijklmnopqrstuvwxyz 비교중\n",
            "jklmnopqrstuvwxyz abcdefghijklmnopqrstuvwxyz 비교중\n",
            "abcdefghijklmnopqrstuvwxyz abcdefghijklmnopqrstuvwxyz 비교중\n",
            "abcdefghijklmnopqr abcdefghijklmnopqrstuvwxyz 비교중\n",
            "jklmnopqrstuvwxyz abcdefghijklmnopqrstuvwxyz 비교중\n",
            "abcdefghistuvwxyz abcdefghijklmnopqrstuvwxyz 비교중\n",
            "abcdefghijklmnopqrstuvwxyz abcdefghijklmnopqrstuvwxyz 비교중\n",
            "abcdefghijklmnopqrstuvwxyz abcdefghijklmnopqrstuvwxyz 비교중\n",
            "abcdefghijklmnopqrstuvwxyz abcdefghijklmnopqrstuvwxyz 비교중\n",
            "abcdefghijklmnopqrstuvwxyz abcdefghijklmnopqrstuvwxyz 비교중\n",
            "abcdefghijklmnopqrstuvwxyz abcdefghijklmnopqrstuvwxyz 비교중\n",
            "abcdefghijklmnopqrstuvwxyz abcdefghijklmnopqrstuvwxyz 비교중\n",
            "abcdefghijklmnopqrstuvwxyz abcdefghijklmnopqrstuvwxyz 비교중\n",
            "abcdefghijklmnopqr abcdefghijklmnopqrstuvwxyz 비교중\n",
            "abcdefghijklmnopqrstuvwxyz abcdefghijklmnopqrstuvwxyz 비교중\n",
            "abcdefghistuvwxyz abcdefghijklmnopqrstuvwxyz 비교중\n",
            "abcdefghijklmnopqrstuvwxyz abcdefghijklmnopqrstuvwxyz 비교중\n",
            "abcdefghijklmnopqrstuvwxyz abcdefghijklmnopqrstuvwxyz 비교중\n",
            "jklmnopqrstuvwxyz abcdefghijklmnopqrstuvwxyz 비교중\n",
            "abcdefghijklmnopqrstuvwxyz abcdefghijklmnopqrstuvwxyz 비교중\n",
            "abcdefghijklmnopqrstuvwxyz abcdefghijklmnopqrstuvwxyz 비교중\n",
            "abcdefghijklmnopqrstuvwxyz abcdefghijklmnopqrstuvwxyz 비교중\n",
            "abcdefghijklmnopqrstuvwxyz abcdefghijklmnopqrstuvwxyz 비교중\n",
            "abcdefghijklmnopqrstuvwxyz abcdefghijklmnopqrstuvwxyz 비교중\n",
            "abcdefghijklmnopqrstuvwxyz abcdefghijklmnopqrstuvwxyz 비교중\n",
            "abcdefghijklmnopqrstuvwxyz abcdefghijklmnopqrstuvwxyz 비교중\n",
            "abcdefghijklmnopqrstuvwxyz abcdefghijklmnopqrstuvwxyz 비교중\n",
            "abcdefghijklmnopqrstuvwxyz abcdefghijklmnopqrstuvwxyz 비교중\n",
            "abcdefghijklmnopqrstuvwxyz abcdefghijklmnopqrstuvwxyz 비교중\n",
            "abcdefghijklmnopqrstuvwxyz abcdefghijklmnopqrstuvwxyz 비교중\n",
            "#1 27\n"
          ]
        }
      ]
    },
    {
      "cell_type": "code",
      "source": [
        "# 5603. 건초더미\n",
        "# 10분 20초 소요\n",
        "\n",
        "T=int(input())\n",
        "\n",
        "for t in range(1,T+1):\n",
        "  N=int(input()) # 건초 더미 수\n",
        "  gunchoe=[]\n",
        "  rude=[]\n",
        "  res=0\n",
        "  for _ in range(N):\n",
        "    gunchoe.append(int(input()))\n",
        "\n",
        "  mean=sum(gunchoe)//len(gunchoe)\n",
        "\n",
        "  for guncho in gunchoe:\n",
        "    if guncho<mean:\n",
        "      rude.append(guncho)\n",
        "\n",
        "  for r in rude:\n",
        "    res+=mean-r\n",
        "  \n",
        "  print(f'#{t} {res}')"
      ],
      "metadata": {
        "colab": {
          "base_uri": "https://localhost:8080/"
        },
        "id": "DnZZAUzLb-Ce",
        "outputId": "b47d6c04-fc24-4bb3-c348-8f59d6872542"
      },
      "execution_count": 56,
      "outputs": [
        {
          "output_type": "stream",
          "name": "stdout",
          "text": [
            "1\n",
            "4\n",
            "2\n",
            "10\n",
            "7\n",
            "1\n",
            "#1 7\n"
          ]
        }
      ]
    },
    {
      "cell_type": "code",
      "source": [
        "# 2806. N-Queen\n",
        "# 1시간 20분 소요. 잘 모르겠음\n",
        "\n",
        "def DFS(s_x,s_y,board,q_cnt):\n",
        "  x_diag=[-1,-1,1,1]\n",
        "  y_diag=[-1,+1,-1,+1]\n",
        "\n",
        "  if q_cnt==len(board):\n",
        "    #print(\"정답인 경우로 표기\")\n",
        "    # for a in board:\n",
        "    #   print(a)\n",
        "    # print()\n",
        "    return 1\n",
        "\n",
        "  for x in range(len(board)):\n",
        "    for y in range(len(board[0])):\n",
        "      #print('현 x,y:',x,y)\n",
        "      if x==s_x and y==s_y:\n",
        "        continue # 시작점이라서 안 봄\n",
        "      if True not in board[x]: # 같은 행에 퀸 없음\n",
        "        #print(x,'행에 True가 없다고 표기함')\n",
        "\n",
        "        col_chk=0\n",
        "\n",
        "        for i in range(len(board)):\n",
        "          if board[i][y]==True: # 같은 열\n",
        "            #print(y,'열에 이미 퀸이 있대요')\n",
        "            col_chk=1\n",
        "        \n",
        "        if col_chk==1:\n",
        "          continue\n",
        "        else:\n",
        "        # 같은 열에 퀸이 없어서 수행\n",
        "          for j in range(4):\n",
        "              if x+x_diag[j]<0 or y+y_diag[j]<0 or x+x_diag[j]>=len(board) or y+y_diag[j]>=len(board): # 범위 벗어나는 좌표\n",
        "                continue\n",
        "              if board[x+x_diag[j]][y+y_diag[j]]==False: # 대각선 할 때도 행열 체크해줘야함\n",
        "                if True not in board[x+x_diag[j]]:\n",
        "                  col_chk=0\n",
        "                  for i in range(len(board)):\n",
        "                    if board[i][y+y_diag[j]]==True:\n",
        "                      col_chk=1\n",
        "                  if col_chk==1:\n",
        "                    continue # 다른 대각선 탐색\n",
        "                  else:\n",
        "                    board[x+x_diag[j]][y+y_diag[j]]=True # 대각선에 해도 됨\n",
        "                    #print(\"보드 갱신중\")\n",
        "                    # for a in board:\n",
        "                    #   print(a)\n",
        "                    # print()\n",
        "                    return DFS(s_x,s_y,board,q_cnt+1)\n",
        "      else: # 같은 행에 퀸이 있음\n",
        "        continue\n",
        "\n",
        "  return 0\n",
        "\n",
        "T=int(input())\n",
        "\n",
        "for t in range(1,T+1):\n",
        "  N=int(input())\n",
        "  count=0\n",
        "\n",
        "  for x in range(N):\n",
        "    for y in range(N):\n",
        "      board=[[False]*N for _ in range(N)] # 보드판\n",
        "      board[x][y]=True # 퀸 시도\n",
        "      #print(\"시작점:\",x,y)\n",
        "      count+=DFS(x,y,board,1)\n",
        "\n",
        "  print(f'#{t} {count}')"
      ],
      "metadata": {
        "colab": {
          "base_uri": "https://localhost:8080/"
        },
        "id": "7KPjFxfGlJFm",
        "outputId": "ece7c7c5-23e2-42b6-cc0d-8de90eb86cde"
      },
      "execution_count": 90,
      "outputs": [
        {
          "output_type": "stream",
          "name": "stdout",
          "text": [
            "1\n",
            "8\n",
            "#1 0\n"
          ]
        }
      ]
    },
    {
      "cell_type": "code",
      "source": [
        "# 1493. 수의 새로운 연산\n",
        "# 1시간 소요. 시간상 패스했음\n",
        "\n",
        "T=int(input())\n",
        "\n",
        "for t in range(1,T+1):\n",
        "  p,q=map(int,input().split())\n",
        "\n",
        "  board=[[0]*100 for _ in range(100)] # 100*100 판때기\n",
        "\n",
        "  val=1\n",
        "\n",
        "  for i in range(100):\n",
        "    for x in range(0,i+1):\n",
        "      print('현재 val:',val)\n",
        "      board[x][i-x]=val\n",
        "      val+=1\n",
        "      if val==max([p,q])+1:\n",
        "        print('그만')\n",
        "        break\n",
        "    if val==max([p,q])+1:\n",
        "        print('그만')\n",
        "        break\n",
        "      \n",
        "  for row in board:\n",
        "    if p in row:\n",
        "      x,y=board.index(row),row.index(p)\n",
        "    \n",
        "    if q in row:\n",
        "      v,w=board.index(row),row.index(q)\n",
        "\n",
        "  print(f'#{t} {board[x+v][y+w]}')\n"
      ],
      "metadata": {
        "colab": {
          "base_uri": "https://localhost:8080/"
        },
        "id": "CwdStWTwlLMm",
        "outputId": "82713fa8-5946-4480-8d23-a6cf6595a290"
      },
      "execution_count": 104,
      "outputs": [
        {
          "output_type": "stream",
          "name": "stdout",
          "text": [
            "1\n",
            "1 5\n",
            "현재 val: 1\n",
            "현재 val: 2\n",
            "현재 val: 3\n",
            "현재 val: 4\n",
            "현재 val: 5\n",
            "그만\n",
            "그만\n",
            "#1 5\n"
          ]
        }
      ]
    },
    {
      "cell_type": "code",
      "source": [
        "# 5948. 새샘이의 7-3-5 게임\n",
        "# 14분 50초 소요\n",
        "\n",
        "from itertools import combinations\n",
        "\n",
        "T=int(input())\n",
        "\n",
        "for t in range(1,T+1):\n",
        "  nums=list(map(int,input().split()))\n",
        "\n",
        "  num_comb=combinations(nums,3)\n",
        "  dist_comb=list(set(num_comb))\n",
        "  # print(dist_comb)\n",
        "  # print(sum(dist_comb[4]))\n",
        "  res=list(sorted(set([sum(comb) for comb in dist_comb]),reverse=True))\n",
        "  #print(res)\n",
        "  print(f'#{t} {res[4]}')"
      ],
      "metadata": {
        "colab": {
          "base_uri": "https://localhost:8080/"
        },
        "id": "CWrnYZywAylJ",
        "outputId": "8d579899-d2db-4b80-bf37-c678ca645d7b"
      },
      "execution_count": 115,
      "outputs": [
        {
          "output_type": "stream",
          "name": "stdout",
          "text": [
            "2\n",
            "1 2 3 4 5 6 7\n",
            "[18, 17, 16, 15, 14, 13, 12, 11, 10, 9, 8, 7, 6]\n",
            "14\n",
            "5 24 99 76 1 77 6\n",
            "[252, 200, 199, 182, 181, 180, 177, 176, 159, 158, 154, 129, 128, 124, 110, 107, 106, 105, 102, 101, 88, 87, 84, 83, 82, 35, 31, 30, 12]\n",
            "181\n"
          ]
        }
      ]
    },
    {
      "cell_type": "code",
      "source": [
        "# 4299. 태혁이의 사랑은 타이밍\n",
        "# 23분 40초 소요. 10 test case중 9개 맞음\n",
        "\n",
        "T=int(input())\n",
        "\n",
        "for t in range(1,T+1):\n",
        "  D,H,M=map(int,input().split())\n",
        "\n",
        "  if M-11<0:\n",
        "    H-=1\n",
        "    M=60-M-11\n",
        "  else:\n",
        "    M-=11\n",
        "  \n",
        "  if H-11<0:\n",
        "    D-=1\n",
        "    H=24-H-11\n",
        "  else:\n",
        "    H-=11\n",
        "\n",
        "  if D-11<0:\n",
        "    print(f'#{t} -1')\n",
        "    continue\n",
        "  else:\n",
        "    D-=11\n",
        "\n",
        "  #print(D,H,M)\n",
        "\n",
        "  D*=(24*60)\n",
        "  H*=60\n",
        "  print(f'#{t} {D+H+M}')"
      ],
      "metadata": {
        "colab": {
          "base_uri": "https://localhost:8080/"
        },
        "id": "p9m80usQKIXo",
        "outputId": "05056142-1a51-48b0-9f7c-1a40c4c0a97c"
      },
      "execution_count": 129,
      "outputs": [
        {
          "output_type": "stream",
          "name": "stdout",
          "text": [
            "3\n",
            "14 23 59\n",
            "#1 5088\n",
            "11 11 11\n",
            "#2 0\n",
            "11 3 7\n",
            "#3 -1\n"
          ]
        }
      ]
    },
    {
      "cell_type": "code",
      "source": [],
      "metadata": {
        "id": "kn8u1k4EOxad"
      },
      "execution_count": null,
      "outputs": []
    }
  ]
}