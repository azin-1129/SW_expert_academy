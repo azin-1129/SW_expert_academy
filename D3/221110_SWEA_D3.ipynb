{
  "nbformat": 4,
  "nbformat_minor": 0,
  "metadata": {
    "colab": {
      "provenance": [],
      "collapsed_sections": []
    },
    "kernelspec": {
      "name": "python3",
      "display_name": "Python 3"
    },
    "language_info": {
      "name": "python"
    }
  },
  "cells": [
    {
      "cell_type": "code",
      "execution_count": 11,
      "metadata": {
        "colab": {
          "base_uri": "https://localhost:8080/"
        },
        "id": "y_aV2jL8N4dm",
        "outputId": "ad27589a-7e78-412e-c3d6-00669899b9ae"
      },
      "outputs": [
        {
          "output_type": "stream",
          "name": "stdout",
          "text": [
            "2\n",
            "2 1\n",
            "#1 4.0\n",
            "3 3\n",
            "#2 1\n"
          ]
        }
      ],
      "source": [
        "# 3233. 정삼각형 분할 놀이\n",
        "# 30분 소요. 10분 이해 시도. 왜 (A//B)**2?\n",
        "\n",
        "T=int(input())\n",
        "\n",
        "for t in range(1,T+1):\n",
        "  A,B=map(float,input().split())\n",
        "\n",
        "  if A==B:\n",
        "    print(f'#{t} 1')\n",
        "  elif B==1:\n",
        "    print(f'#{t} {4**(int(A)-1)}')\n",
        "  else:\n",
        "    print(f'#{t} {4**(A/B-1)}')\n",
        "    # n=0\n",
        "    # while True:\n",
        "    #  # A/=2\n",
        "    #   A/=B\n",
        "    #   n+=1\n",
        "\n",
        "    #   if A<=B:\n",
        "    #     print(f'#{t} {4**n}')\n",
        "    #     break"
      ]
    },
    {
      "cell_type": "code",
      "source": [
        "# 2817. 부분 수열의 합\n",
        "# 20분 소요, 런타임 에러\n",
        "\n",
        "#from itertools import combinations_with_replacement\n",
        "from itertools import combinations\n",
        "\n",
        "T=int(input())\n",
        "\n",
        "for t in range(1,T+1):\n",
        "  N,K=map(int,input().split())\n",
        "  nums=list(map(int,input().split()))\n",
        "  listing=[]\n",
        "  count=0\n",
        "\n",
        "  for i in range(1,N+1):\n",
        "    #print(list(combinations(nums,i)))\n",
        "    listing+=combinations(nums,i)\n",
        "\n",
        "  #print(listing)\n",
        "\n",
        "  for com in listing:\n",
        "    if sum(com)==K:\n",
        "      count+=1\n",
        "\n",
        "  print(f'#{t} {count}')\n"
      ],
      "metadata": {
        "colab": {
          "base_uri": "https://localhost:8080/"
        },
        "id": "IttSLD9gN6m7",
        "outputId": "f2f92db2-0392-49b5-8c2b-44e7006ccde3"
      },
      "execution_count": 26,
      "outputs": [
        {
          "output_type": "stream",
          "name": "stdout",
          "text": [
            "1\n",
            "4 3\n",
            "1 2 1 2\n",
            "#1 8\n"
          ]
        }
      ]
    },
    {
      "cell_type": "code",
      "source": [
        "# 1873. 상호의 배틀필드\n",
        "# 40분 소요중\n",
        "\n",
        "T=int(input())\n",
        "\n",
        "for t in range(1,T+1):\n",
        "  H,W=map(int,input().split())\n",
        "  field=[]\n",
        "  x,y=0,0\n",
        "  direc='' # 전차 방향\n",
        "\n",
        "  for i in range(H):\n",
        "    field_line=list(input().split())\n",
        "    if '<' in field_line or '>' in field_line or '^' in field_line or 'v' in field_line:\n",
        "      for s_comp in ['<','>','^','v']:\n",
        "        if s_comp in field_line:\n",
        "          x,y=i,field_line.index(s_comp) # 시작점\n",
        "          print('시작점:',x,y)\n",
        "          direc=s_comp # 전차 방향\n",
        "          break\n",
        "    field.append(field_line)\n",
        "\n",
        "  N=int(input()) # 명령어 수\n",
        "  control=input() # 명령어\n",
        "\n",
        "  for cont in control:\n",
        "    print('현재 x,y:',x,y)\n",
        "    if cont=='U':\n",
        "      direc='^'\n",
        "      if x-1<0:\n",
        "        continue # 가만히\n",
        "      else:\n",
        "        if field[x-1][y]=='.': # 땅이면\n",
        "          x-=1 # 진행\n",
        "    elif cont=='D':\n",
        "      direc='v'\n",
        "      if x+1>=H:\n",
        "        continue\n",
        "      else:\n",
        "        if field[x+1][y]=='.':\n",
        "          x+=1\n",
        "    elif cont=='L':\n",
        "      direc='<'\n",
        "      if y-1<0:\n",
        "        continue\n",
        "      else:\n",
        "        if field[x][y-1]=='.':\n",
        "          y-=1\n",
        "    elif cont=='R':\n",
        "      direc='>'\n",
        "      if y+1>=W:\n",
        "        continue\n",
        "      else:\n",
        "        if field[x][y+1]=='.':\n",
        "          y+=1\n",
        "    else: # Shoot\n",
        "      if direc=='^':\n",
        "        for i in range(x-1,-1,-1): # 위쪽 열 탐색\n",
        "          if field[i][y]=='.': # 땅이면 wlsgod\n",
        "            x-=1\n",
        "          elif field[i][y]=='*': # 벽돌 벽이면\n",
        "            field[i][y]='.' # 땅으로 바꾸고 멈추기\n",
        "            break\n",
        "          elif field[i][y]=='#': # 강철 벽이면 멈추기\n",
        "            break\n",
        "          elif field[i][y]=='-': # 물이여도 멈춤\n",
        "            break\n",
        "      if direc=='v':\n",
        "        for i in range(x,H): # 아래쪽 열 탐색\n",
        "          if field[i][y]=='.': # 땅이면 wlsgod\n",
        "            x+=1\n",
        "          elif field[i][y]=='*': # 벽돌 벽이면\n",
        "            field[i][y]='.' # 땅으로 바꾸고 멈추기\n",
        "            break\n",
        "          elif field[i][y]=='#': # 강철 벽이면 멈추기\n",
        "            break\n",
        "          elif field[i][y]=='-': # 물이여도 멈춤\n",
        "            break\n",
        "      if direc=='<':\n",
        "        for i in range(y-1,-1,-1): # 행 좌측 탐색\n",
        "          if field[x][i]=='.': # 땅이면 wlsgod\n",
        "            y-=1\n",
        "          elif field[x][i]=='*': # 벽돌 벽이면\n",
        "            field[x][i]='.' # 땅으로 바꾸고 멈추기\n",
        "            break\n",
        "          elif field[x][i]=='#': # 강철 벽이면 멈추기\n",
        "            break\n",
        "          elif field[x][i]=='-': # 물이여도 멈춤\n",
        "            break\n",
        "      if direc=='>':\n",
        "        for i in range(y+1,W): # 행 우측 탐색\n",
        "          if field[x][i]=='.': # 땅이면 wlsgod\n",
        "            y+=1\n",
        "          elif field[x][i]=='*': # 벽돌 벽이면\n",
        "            field[i][y]='.' # 땅으로 바꾸고 멈추기\n",
        "            break\n",
        "          elif field[x][i]=='#': # 강철 벽이면 멈추기\n",
        "            break\n",
        "          elif field[x][i]=='-': # 물이여도 멈춤\n",
        "            break\n",
        "\n",
        "  print(f'#{t}',end=' ')\n",
        "  for fi in field:\n",
        "    print(fi)"
      ],
      "metadata": {
        "colab": {
          "base_uri": "https://localhost:8080/",
          "height": 432
        },
        "id": "mr0UM0bTSoIv",
        "outputId": "b4d155f8-d473-4768-b445-ef42008fa988"
      },
      "execution_count": 29,
      "outputs": [
        {
          "output_type": "stream",
          "name": "stdout",
          "text": [
            "1\n",
            "3 7\n",
            "***....\n",
            "*-..#**\n",
            "#<.****\n",
            "23\n",
            "SURSSSSUSLSRSSSURRDSRDS\n",
            "현재 x,y: 0 0\n",
            "현재 x,y: 0 0\n",
            "현재 x,y: 0 0\n"
          ]
        },
        {
          "output_type": "error",
          "ename": "IndexError",
          "evalue": "ignored",
          "traceback": [
            "\u001b[0;31m---------------------------------------------------------------------------\u001b[0m",
            "\u001b[0;31mIndexError\u001b[0m                                Traceback (most recent call last)",
            "\u001b[0;32m<ipython-input-29-1227d178a9a4>\u001b[0m in \u001b[0;36m<module>\u001b[0;34m\u001b[0m\n\u001b[1;32m     49\u001b[0m         \u001b[0;32mcontinue\u001b[0m\u001b[0;34m\u001b[0m\u001b[0;34m\u001b[0m\u001b[0m\n\u001b[1;32m     50\u001b[0m       \u001b[0;32melse\u001b[0m\u001b[0;34m:\u001b[0m\u001b[0;34m\u001b[0m\u001b[0;34m\u001b[0m\u001b[0m\n\u001b[0;32m---> 51\u001b[0;31m         \u001b[0;32mif\u001b[0m \u001b[0mfield\u001b[0m\u001b[0;34m[\u001b[0m\u001b[0mx\u001b[0m\u001b[0;34m]\u001b[0m\u001b[0;34m[\u001b[0m\u001b[0my\u001b[0m\u001b[0;34m+\u001b[0m\u001b[0;36m1\u001b[0m\u001b[0;34m]\u001b[0m\u001b[0;34m==\u001b[0m\u001b[0;34m'.'\u001b[0m\u001b[0;34m:\u001b[0m\u001b[0;34m\u001b[0m\u001b[0;34m\u001b[0m\u001b[0m\n\u001b[0m\u001b[1;32m     52\u001b[0m           \u001b[0my\u001b[0m\u001b[0;34m+=\u001b[0m\u001b[0;36m1\u001b[0m\u001b[0;34m\u001b[0m\u001b[0;34m\u001b[0m\u001b[0m\n\u001b[1;32m     53\u001b[0m     \u001b[0;32melse\u001b[0m\u001b[0;34m:\u001b[0m \u001b[0;31m# Shoot\u001b[0m\u001b[0;34m\u001b[0m\u001b[0;34m\u001b[0m\u001b[0m\n",
            "\u001b[0;31mIndexError\u001b[0m: list index out of range"
          ]
        }
      ]
    },
    {
      "cell_type": "code",
      "source": [
        "3"
      ],
      "metadata": {
        "id": "B3EmIEz3XfrO"
      },
      "execution_count": null,
      "outputs": []
    }
  ]
}