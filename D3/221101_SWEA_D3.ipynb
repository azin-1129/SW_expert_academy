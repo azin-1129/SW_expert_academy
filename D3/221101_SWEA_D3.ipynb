{
  "nbformat": 4,
  "nbformat_minor": 0,
  "metadata": {
    "colab": {
      "provenance": [],
      "collapsed_sections": []
    },
    "kernelspec": {
      "name": "python3",
      "display_name": "Python 3"
    },
    "language_info": {
      "name": "python"
    }
  },
  "cells": [
    {
      "cell_type": "code",
      "execution_count": null,
      "metadata": {
        "colab": {
          "base_uri": "https://localhost:8080/"
        },
        "id": "g1vNOrmAtTuR",
        "outputId": "1cb9a61a-79fd-4869-cc52-dffe48d82dd4"
      },
      "outputs": [
        {
          "output_type": "stream",
          "name": "stdout",
          "text": [
            "1\n",
            "5\n",
            "14054\n",
            "44250\n",
            "02032\n",
            "51204\n",
            "52212\n",
            "[1, 4, 0, 5, 4]\n",
            "[4, 4, 2, 5, 0]\n",
            "[0, 2, 0, 3, 2]\n",
            "[5, 1, 2, 0, 4]\n",
            "[5, 2, 2, 1, 2]\n",
            "tag: [2, 1, 0, 1, 2]\n",
            "중간점: 2\n",
            "2 to 3\n",
            "슬라이스: [0]\n",
            "1 to 4\n",
            "슬라이스: [4, 2, 5]\n",
            "0 to 5\n",
            "슬라이스: [0, 2, 0, 3, 2]\n",
            "1 to 4\n",
            "슬라이스: [1, 2, 0]\n",
            "2 to 3\n",
            "슬라이스: [2]\n",
            "#1 23\n"
          ]
        }
      ],
      "source": [
        "# 2805. 농작물 수확하기\n",
        "# 28분 소요\n",
        "\n",
        "T=int(input())\n",
        "\n",
        "for t in range(1,T+1):\n",
        "  N=int(input())\n",
        "\n",
        "  farm=[]\n",
        "  res=0\n",
        "  start=N//2\n",
        "\n",
        "  for _ in range(N):\n",
        "    farm.append(list(map(int,input())))\n",
        "\n",
        "  for f in farm:\n",
        "    print(f)\n",
        "  tag=[i for i in range(start,-1,-1)]\n",
        "  \n",
        "  for i in range(1,start+1):\n",
        "    tag.append(i)\n",
        "\n",
        "  #print('tag:',tag)\n",
        "\n",
        "  \n",
        "  #print(\"중간점:\",start)\n",
        "\n",
        "  for i in range(N):\n",
        "    res+=sum(farm[i][tag[i]:N-tag[i]])\n",
        "    #print(tag[i],'to',N-tag[i])\n",
        "    #print('슬라이스:',farm[i][tag[i]:N-tag[i]])\n",
        "\n",
        "  print(f'#{t} {res}')"
      ]
    },
    {
      "cell_type": "code",
      "source": [
        "# 1240. 단순 2진 암호코드\n",
        "# 2시간 30분 투자 결과 9개 케이스만 맞고 하나가 틀림. 몰겠당\n",
        "T=int(input())\n",
        "\n",
        "for t in range(1,T+1):\n",
        "  N,M=map(int,input().split())\n",
        "\n",
        "  nums=[] # 추출 숫자\n",
        "  even=0 # 짝 합\n",
        "  odd=0 # 홀 합\n",
        "  res=0\n",
        "  listing=[]\n",
        "  decode_list=[[0,0,0,1,1,0,1],[0,0,1,1,0,0,1],[0,0,1,0,0,1,1],[0,1,1,1,1,0,1],[0,1,0,0,0,1,1],[0,1,1,0,0,0,1],\n",
        "               [0,1,0,1,1,1,1],[0,1,1,1,0,1,1],[0,1,1,0,1,1,1],[0,0,0,1,0,1,1]]\n",
        "  \n",
        "  for _ in range(N):\n",
        "    listing.append(list(map(int,input())))\n",
        "\n",
        "  for temp in listing:\n",
        "    if sum(temp)>0: # 암호코드 같을 때\n",
        "      i=0\n",
        "      while i<M:\n",
        "        if temp[i:i+7] in decode_list and len(nums)!=8: # 다음 기준점\n",
        "          #print(temp[i:i+7],'디코더 내에 있음')\n",
        "        #print(i,'to',i+7,temp[i:i+7])\n",
        "          for j in range(0,M,7):\n",
        "              #print(decode,'비교')\n",
        "              if temp[j+i:j+i+7] in decode_list: # i부터 7개씩 슬라이스한 게 디코더에 있으면 어펜드\n",
        "                print(j+i,'to',j+i+7,temp[j+i:j+i+7],'슬라이싱')\n",
        "                nums.append(decode_list.index(temp[j+i:j+i+7]))\n",
        "              else: # 인식 안되는 부분이면\n",
        "                i+=j\n",
        "                break\n",
        "                #print('nums에',decode_list.index(temp[j+i:j+i+7]),'추가')\n",
        "                #print(i,'번째 nums:',nums)\n",
        "        else:\n",
        "          i+=1 # 이 인덱스는 글러먹음\n",
        "\n",
        "      # if len(nums)==8:\n",
        "      #   break\n",
        "\n",
        "  print('nums:',nums)\n",
        "  for y in range(1,len(nums)+1):\n",
        "    if y%2==0:\n",
        "      even+=nums[y-1]\n",
        "    else:\n",
        "      odd+=nums[y-1]\n",
        "\n",
        "  res=odd*3+even\n",
        "\n",
        "  if res%10!=0 or len(nums)!=8: # 10의 배수가 아니거나 코드수가 8이 아니라면\n",
        "    print(f'#{t}',0)\n",
        "  else:\n",
        "    print(f'#{t} {sum(nums)}')"
      ],
      "metadata": {
        "colab": {
          "base_uri": "https://localhost:8080/"
        },
        "id": "SaXOP6KRwN55",
        "outputId": "852981a9-017b-4511-9bc0-a3736e99f9dc"
      },
      "execution_count": 99,
      "outputs": [
        {
          "output_type": "stream",
          "name": "stdout",
          "text": [
            "1\n",
            "1 56\n",
            "01110110110001011101101100010110001000110100100110111011\n",
            "0 to 7 [0, 1, 1, 1, 0, 1, 1] 슬라이싱\n",
            "7 to 14 [0, 1, 1, 0, 0, 0, 1] 슬라이싱\n",
            "14 to 21 [0, 1, 1, 1, 0, 1, 1] 슬라이싱\n",
            "21 to 28 [0, 1, 1, 0, 0, 0, 1] 슬라이싱\n",
            "28 to 35 [0, 1, 1, 0, 0, 0, 1] 슬라이싱\n",
            "35 to 42 [0, 0, 0, 1, 1, 0, 1] 슬라이싱\n",
            "42 to 49 [0, 0, 1, 0, 0, 1, 1] 슬라이싱\n",
            "49 to 56 [0, 1, 1, 1, 0, 1, 1] 슬라이싱\n",
            "nums: [7, 5, 7, 5, 5, 0, 2, 7]\n",
            "#1 38\n"
          ]
        }
      ]
    },
    {
      "cell_type": "code",
      "source": [
        "# 1216. 회문2\n",
        "# 1시간째. 아이디어 없어서 패스\n",
        "\n",
        "word_plate=[]\n",
        "\n",
        "for _ in range(8):\n",
        "  word_plate.append(list(input()))\n",
        "\n",
        "row_len=1\n",
        "\n",
        "idx=1\n",
        "\n",
        "for i in range(0,8-row_len):\n",
        "  mid=row_len//2\n",
        "  words=word_plate[idx]\n",
        "\n",
        "  if mid%2==0:\n",
        "    if words[i:i+mid]==list(reversed(words[i+mid:i+mid+row_len])):\n",
        "      row_len+=1\n",
        "      break\n",
        "  else:\n",
        "    if words[i+i+mid]==list(reversed(words[i+mid+1:i+mid+row_len])):\n",
        "      row_len+=1\n",
        "      break\n",
        "  idx+=1\n",
        "\n",
        "\n",
        "print(row_len-1)\n",
        "\n",
        "col_len=1\n",
        "\n",
        "for x in range(8):\n",
        "  column=word_plate[x][0:]\n",
        "\n",
        "  while True:\n",
        "    mid=col_len//2\n",
        "    for words in word_plate:\n",
        "      for i in range(0,8-col_len):\n",
        "        if mid%2==0:\n",
        "          if words[i:i+mid]==list(reversed(words[i+mid:i+mid+col_len])):\n",
        "            col_len+=1\n",
        "            break\n",
        "        else:\n",
        "          if words[i+i+mid]==list(reversed(words[i+mid+1:i+mid+col_len])):\n",
        "            col_len+=1\n",
        "            break\n",
        "    break\n",
        "\n",
        "print(col_len-1)"
      ],
      "metadata": {
        "colab": {
          "base_uri": "https://localhost:8080/"
        },
        "id": "NqKmEPVP47dZ",
        "outputId": "a7b8c67a-f919-44da-88d1-145a9fa3180f"
      },
      "execution_count": 101,
      "outputs": [
        {
          "output_type": "stream",
          "name": "stdout",
          "text": [
            "CBCABBAC\n",
            "BBABCABA\n",
            "ABCBCCCA\n",
            "BACCAABB\n",
            "BCBCACBC\n",
            "CABACACB\n",
            "CAAACCAB\n",
            "CBABACAC\n",
            "8\n",
            "64\n"
          ]
        }
      ]
    },
    {
      "cell_type": "code",
      "source": [
        "# 5431. 민석이의 과제 체크하기\n",
        "# 6분 소요\n",
        "\n",
        "T=int(input())\n",
        "\n",
        "for t in range(1,T+1):\n",
        "  N,K=map(int,input().split())\n",
        "\n",
        "  assigned=sorted(list(map(int,input().split())))\n",
        "\n",
        "  res=[i for i in range(1,N+1) if i not in assigned]\n",
        "\n",
        "  print(f'#{t}',*res)"
      ],
      "metadata": {
        "colab": {
          "base_uri": "https://localhost:8080/"
        },
        "id": "7lfZ9PqNAhZ3",
        "outputId": "3893be73-ae29-46e8-d4f0-990a12473a94"
      },
      "execution_count": 102,
      "outputs": [
        {
          "output_type": "stream",
          "name": "stdout",
          "text": [
            "2\n",
            "5 3\n",
            "2 5 3\n",
            "#1 1 4\n",
            "7 2\n",
            "4 6\n",
            "#2 1 2 3 5 7\n"
          ]
        }
      ]
    },
    {
      "cell_type": "code",
      "source": [
        "# 3456. 직사각형 길이 찾기\n",
        "# 4분 30초 소요\n",
        "\n",
        "T=int(input())\n",
        "\n",
        "for t in range(1,T+1):\n",
        "  a,b,c=map(int,input().split())\n",
        "\n",
        "  len_list=[a,b,c]\n",
        "\n",
        "  for length in len_list:\n",
        "    if len_list.count(length)%2!=0:\n",
        "      print(f'#{t} {length}')\n",
        "      break"
      ],
      "metadata": {
        "colab": {
          "base_uri": "https://localhost:8080/"
        },
        "id": "0M4mCMf_D_lX",
        "outputId": "3688948b-9e6a-4d98-c4ad-5d37376a1bec"
      },
      "execution_count": 104,
      "outputs": [
        {
          "output_type": "stream",
          "name": "stdout",
          "text": [
            "3\n",
            "1 1 2\n",
            "#1 2\n",
            "4 3 4\n",
            "#2 3\n",
            "5 5 5\n",
            "#3 5\n"
          ]
        }
      ]
    },
    {
      "cell_type": "code",
      "source": [
        "# 13229. 일요일\n",
        "# 8분 소요\n",
        "\n",
        "weekly=['MON','TUE','WED','THU','FRI','SAT','SUN']\n",
        "\n",
        "T=int(input())\n",
        "\n",
        "for t in range(1,T+1):\n",
        "  count=0\n",
        "  S=input()\n",
        "\n",
        "  i=weekly.index(S)\n",
        "\n",
        "  if i==6: # 현재가 일요일이면 월요일부터 계산\n",
        "    i=0\n",
        "    count=1 # 다음 일요일을 위해서\n",
        "\n",
        "  while True:\n",
        "    if weekly[i]=='SUN':\n",
        "      break\n",
        "    i+=1\n",
        "    count+=1\n",
        "  \n",
        "  print(f'#{t} {count}')"
      ],
      "metadata": {
        "colab": {
          "base_uri": "https://localhost:8080/"
        },
        "id": "6Pr5HI2hEKgC",
        "outputId": "439d8508-f396-4891-d498-8e06c4915479"
      },
      "execution_count": 108,
      "outputs": [
        {
          "output_type": "stream",
          "name": "stdout",
          "text": [
            "3\n",
            "SUN\n",
            "#1 7\n",
            "SAT\n",
            "#2 1\n",
            "MON\n",
            "#3 6\n"
          ]
        }
      ]
    },
    {
      "cell_type": "code",
      "source": [
        "# 5549. 홀수일까 짝수일까\n",
        "# 3분 20초 소요\n",
        "\n",
        "T=int(input())\n",
        "\n",
        "for t in range(1,T+1):\n",
        "  num=int(input())\n",
        "\n",
        "  if num%2==0:\n",
        "    print(f'#{t} Even')\n",
        "  else:\n",
        "    print(f'#{t} Odd')"
      ],
      "metadata": {
        "colab": {
          "base_uri": "https://localhost:8080/"
        },
        "id": "fNJ4mwKFHDu3",
        "outputId": "690a59a7-75e6-425b-f8ef-379191b9aae5"
      },
      "execution_count": 110,
      "outputs": [
        {
          "output_type": "stream",
          "name": "stdout",
          "text": [
            "5\n",
            "1\n",
            "#1 Odd\n",
            "10\n",
            "#2 even\n",
            "100\n",
            "#3 even\n",
            "185787124368712386825387273871\n",
            "#4 Odd\n",
            "82518881239123819238912929292\n",
            "#5 even\n"
          ]
        }
      ]
    },
    {
      "cell_type": "code",
      "source": [
        "# 1228. 암호문1\n",
        "# 13분 10초 소요\n",
        "\n",
        "for t in range(1,11):\n",
        "  origin_len=int(input())\n",
        "  password=list(map(int,input().split()))\n",
        "  comm_len=int(input())\n",
        "  commands=list(input().split())\n",
        "\n",
        "  for i in range(len(commands)):\n",
        "    if commands[i]=='I':\n",
        "      x=int(commands[i+1])\n",
        "      y=int(commands[i+2])\n",
        "\n",
        "      for y_in in range(y):\n",
        "        password.insert(x+y_in, int(commands[i+3+y_in]))\n",
        "\n",
        "  print(f'#{t}',*password[:10])"
      ],
      "metadata": {
        "colab": {
          "base_uri": "https://localhost:8080/",
          "height": 513
        },
        "id": "aupP28LtIYD5",
        "outputId": "f1798d14-c22c-4c6c-ba50-3ac429305547"
      },
      "execution_count": 115,
      "outputs": [
        {
          "output_type": "stream",
          "name": "stdout",
          "text": [
            "11\n",
            "449047 855428 425117 532416 358612 929816 313459 311433 472478 589139 568205\n",
            "7\n",
            "I 1 5 400905 139831 966064 336948 119288 I 8 6 436704 702451 762737 557561 810021 771706 I 3 8 389953 706628 552108 238749 661021 498160 493414 377808 I 13 4 237017 301569 243869 252994 I 3 4 408347 618608 822798 370982 I 8 2 424216 356268 I 4 10 512816 992679 693002 835918 768525 949227 628969 521945 839380 479976\n",
            "#1 449047 400905 139831 408347 512816 992679 693002 835918 768525 949227\n"
          ]
        },
        {
          "output_type": "error",
          "ename": "KeyboardInterrupt",
          "evalue": "ignored",
          "traceback": [
            "\u001b[0;31m---------------------------------------------------------------------------\u001b[0m",
            "\u001b[0;31mKeyboardInterrupt\u001b[0m                         Traceback (most recent call last)",
            "\u001b[0;32m<ipython-input-115-1c6f729f0673>\u001b[0m in \u001b[0;36m<module>\u001b[0;34m\u001b[0m\n\u001b[1;32m      1\u001b[0m \u001b[0;32mfor\u001b[0m \u001b[0mt\u001b[0m \u001b[0;32min\u001b[0m \u001b[0mrange\u001b[0m\u001b[0;34m(\u001b[0m\u001b[0;36m1\u001b[0m\u001b[0;34m,\u001b[0m\u001b[0;36m11\u001b[0m\u001b[0;34m)\u001b[0m\u001b[0;34m:\u001b[0m\u001b[0;34m\u001b[0m\u001b[0;34m\u001b[0m\u001b[0m\n\u001b[0;32m----> 2\u001b[0;31m   \u001b[0morigin_len\u001b[0m\u001b[0;34m=\u001b[0m\u001b[0mint\u001b[0m\u001b[0;34m(\u001b[0m\u001b[0minput\u001b[0m\u001b[0;34m(\u001b[0m\u001b[0;34m)\u001b[0m\u001b[0;34m)\u001b[0m\u001b[0;34m\u001b[0m\u001b[0;34m\u001b[0m\u001b[0m\n\u001b[0m\u001b[1;32m      3\u001b[0m   \u001b[0mpassword\u001b[0m\u001b[0;34m=\u001b[0m\u001b[0mlist\u001b[0m\u001b[0;34m(\u001b[0m\u001b[0mmap\u001b[0m\u001b[0;34m(\u001b[0m\u001b[0mint\u001b[0m\u001b[0;34m,\u001b[0m\u001b[0minput\u001b[0m\u001b[0;34m(\u001b[0m\u001b[0;34m)\u001b[0m\u001b[0;34m.\u001b[0m\u001b[0msplit\u001b[0m\u001b[0;34m(\u001b[0m\u001b[0;34m)\u001b[0m\u001b[0;34m)\u001b[0m\u001b[0;34m)\u001b[0m\u001b[0;34m\u001b[0m\u001b[0;34m\u001b[0m\u001b[0m\n\u001b[1;32m      4\u001b[0m   \u001b[0mcomm_len\u001b[0m\u001b[0;34m=\u001b[0m\u001b[0mint\u001b[0m\u001b[0;34m(\u001b[0m\u001b[0minput\u001b[0m\u001b[0;34m(\u001b[0m\u001b[0;34m)\u001b[0m\u001b[0;34m)\u001b[0m\u001b[0;34m\u001b[0m\u001b[0;34m\u001b[0m\u001b[0m\n\u001b[1;32m      5\u001b[0m   \u001b[0mcommands\u001b[0m\u001b[0;34m=\u001b[0m\u001b[0mlist\u001b[0m\u001b[0;34m(\u001b[0m\u001b[0minput\u001b[0m\u001b[0;34m(\u001b[0m\u001b[0;34m)\u001b[0m\u001b[0;34m.\u001b[0m\u001b[0msplit\u001b[0m\u001b[0;34m(\u001b[0m\u001b[0;34m)\u001b[0m\u001b[0;34m)\u001b[0m\u001b[0;34m\u001b[0m\u001b[0;34m\u001b[0m\u001b[0m\n",
            "\u001b[0;32m/usr/local/lib/python3.7/dist-packages/ipykernel/kernelbase.py\u001b[0m in \u001b[0;36mraw_input\u001b[0;34m(self, prompt)\u001b[0m\n\u001b[1;32m    861\u001b[0m             \u001b[0mself\u001b[0m\u001b[0;34m.\u001b[0m\u001b[0m_parent_ident\u001b[0m\u001b[0;34m,\u001b[0m\u001b[0;34m\u001b[0m\u001b[0;34m\u001b[0m\u001b[0m\n\u001b[1;32m    862\u001b[0m             \u001b[0mself\u001b[0m\u001b[0;34m.\u001b[0m\u001b[0m_parent_header\u001b[0m\u001b[0;34m,\u001b[0m\u001b[0;34m\u001b[0m\u001b[0;34m\u001b[0m\u001b[0m\n\u001b[0;32m--> 863\u001b[0;31m             \u001b[0mpassword\u001b[0m\u001b[0;34m=\u001b[0m\u001b[0;32mFalse\u001b[0m\u001b[0;34m,\u001b[0m\u001b[0;34m\u001b[0m\u001b[0;34m\u001b[0m\u001b[0m\n\u001b[0m\u001b[1;32m    864\u001b[0m         )\n\u001b[1;32m    865\u001b[0m \u001b[0;34m\u001b[0m\u001b[0m\n",
            "\u001b[0;32m/usr/local/lib/python3.7/dist-packages/ipykernel/kernelbase.py\u001b[0m in \u001b[0;36m_input_request\u001b[0;34m(self, prompt, ident, parent, password)\u001b[0m\n\u001b[1;32m    902\u001b[0m             \u001b[0;32mexcept\u001b[0m \u001b[0mKeyboardInterrupt\u001b[0m\u001b[0;34m:\u001b[0m\u001b[0;34m\u001b[0m\u001b[0;34m\u001b[0m\u001b[0m\n\u001b[1;32m    903\u001b[0m                 \u001b[0;31m# re-raise KeyboardInterrupt, to truncate traceback\u001b[0m\u001b[0;34m\u001b[0m\u001b[0;34m\u001b[0m\u001b[0;34m\u001b[0m\u001b[0m\n\u001b[0;32m--> 904\u001b[0;31m                 \u001b[0;32mraise\u001b[0m \u001b[0mKeyboardInterrupt\u001b[0m\u001b[0;34m(\u001b[0m\u001b[0;34m\"Interrupted by user\"\u001b[0m\u001b[0;34m)\u001b[0m \u001b[0;32mfrom\u001b[0m \u001b[0;32mNone\u001b[0m\u001b[0;34m\u001b[0m\u001b[0;34m\u001b[0m\u001b[0m\n\u001b[0m\u001b[1;32m    905\u001b[0m             \u001b[0;32mexcept\u001b[0m \u001b[0mException\u001b[0m \u001b[0;32mas\u001b[0m \u001b[0me\u001b[0m\u001b[0;34m:\u001b[0m\u001b[0;34m\u001b[0m\u001b[0;34m\u001b[0m\u001b[0m\n\u001b[1;32m    906\u001b[0m                 \u001b[0mself\u001b[0m\u001b[0;34m.\u001b[0m\u001b[0mlog\u001b[0m\u001b[0;34m.\u001b[0m\u001b[0mwarning\u001b[0m\u001b[0;34m(\u001b[0m\u001b[0;34m\"Invalid Message:\"\u001b[0m\u001b[0;34m,\u001b[0m \u001b[0mexc_info\u001b[0m\u001b[0;34m=\u001b[0m\u001b[0;32mTrue\u001b[0m\u001b[0;34m)\u001b[0m\u001b[0;34m\u001b[0m\u001b[0;34m\u001b[0m\u001b[0m\n",
            "\u001b[0;31mKeyboardInterrupt\u001b[0m: Interrupted by user"
          ]
        }
      ]
    },
    {
      "cell_type": "code",
      "source": [
        "# 10804. 문자열의 거울상\n",
        "# 10분 30초 소요\n",
        "\n",
        "T=int(input())\n",
        "\n",
        "for t in range(1,T+1):\n",
        "  S=list(input())\n",
        "  S.reverse()\n",
        "\n",
        "  for i in range(len(S)):\n",
        "    if S[i]=='b':\n",
        "      S[i]='d'\n",
        "    elif S[i]=='d':\n",
        "      S[i]='b'\n",
        "    elif S[i]=='p':\n",
        "      S[i]='q'\n",
        "    else: # q\n",
        "      S[i]='p'\n",
        "\n",
        "  print(f'#{t}',''.join(S))"
      ],
      "metadata": {
        "colab": {
          "base_uri": "https://localhost:8080/"
        },
        "id": "-tzppUYyLOCN",
        "outputId": "b24d8acd-792c-4ddc-f509-fd1331f16af1"
      },
      "execution_count": 122,
      "outputs": [
        {
          "output_type": "stream",
          "name": "stdout",
          "text": [
            "2\n",
            "bdppq\n",
            "#1 pqqbd\n",
            "qqqqpppbbd\n",
            "#2 bddqqqpppp\n"
          ]
        }
      ]
    },
    {
      "cell_type": "code",
      "source": [
        "# 9700. USB 꽂기의 미스터리\n",
        "# 9분 소요중\n",
        "\n",
        "T=int(input())\n",
        "\n",
        "for t in range(1,T+1):\n",
        "  p,q=map(float,input().split())\n",
        "\n",
        "  while cnt<i:\n"
      ],
      "metadata": {
        "id": "lp6Kbdn8NbUZ"
      },
      "execution_count": null,
      "outputs": []
    }
  ]
}