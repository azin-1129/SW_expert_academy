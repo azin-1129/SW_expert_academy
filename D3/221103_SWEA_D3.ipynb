{
  "nbformat": 4,
  "nbformat_minor": 0,
  "metadata": {
    "colab": {
      "provenance": [],
      "collapsed_sections": []
    },
    "kernelspec": {
      "name": "python3",
      "display_name": "Python 3"
    },
    "language_info": {
      "name": "python"
    }
  },
  "cells": [
    {
      "cell_type": "code",
      "execution_count": 6,
      "metadata": {
        "colab": {
          "base_uri": "https://localhost:8080/",
          "height": 475
        },
        "id": "YP61DNmP9f3U",
        "outputId": "190b0945-2011-41ae-8c81-f365e6819427"
      },
      "outputs": [
        {
          "output_type": "stream",
          "name": "stdout",
          "text": [
            "2\n",
            "1 1\n",
            "1\n",
            "#1 5\n"
          ]
        },
        {
          "output_type": "error",
          "ename": "KeyboardInterrupt",
          "evalue": "ignored",
          "traceback": [
            "\u001b[0;31m---------------------------------------------------------------------------\u001b[0m",
            "\u001b[0;31mKeyboardInterrupt\u001b[0m                         Traceback (most recent call last)",
            "\u001b[0;32m<ipython-input-6-3e14565e333a>\u001b[0m in \u001b[0;36m<module>\u001b[0;34m\u001b[0m\n\u001b[1;32m      5\u001b[0m \u001b[0;34m\u001b[0m\u001b[0m\n\u001b[1;32m      6\u001b[0m \u001b[0;32mfor\u001b[0m \u001b[0mt\u001b[0m \u001b[0;32min\u001b[0m \u001b[0mrange\u001b[0m\u001b[0;34m(\u001b[0m\u001b[0;36m1\u001b[0m\u001b[0;34m,\u001b[0m\u001b[0mT\u001b[0m\u001b[0;34m+\u001b[0m\u001b[0;36m1\u001b[0m\u001b[0;34m)\u001b[0m\u001b[0;34m:\u001b[0m\u001b[0;34m\u001b[0m\u001b[0;34m\u001b[0m\u001b[0m\n\u001b[0;32m----> 7\u001b[0;31m   \u001b[0mm\u001b[0m\u001b[0;34m,\u001b[0m\u001b[0md\u001b[0m\u001b[0;34m=\u001b[0m\u001b[0mmap\u001b[0m\u001b[0;34m(\u001b[0m\u001b[0mint\u001b[0m\u001b[0;34m,\u001b[0m\u001b[0minput\u001b[0m\u001b[0;34m(\u001b[0m\u001b[0;34m)\u001b[0m\u001b[0;34m.\u001b[0m\u001b[0msplit\u001b[0m\u001b[0;34m(\u001b[0m\u001b[0;34m)\u001b[0m\u001b[0;34m)\u001b[0m\u001b[0;34m\u001b[0m\u001b[0;34m\u001b[0m\u001b[0m\n\u001b[0m\u001b[1;32m      8\u001b[0m   \u001b[0mday_cnt\u001b[0m\u001b[0;34m=\u001b[0m\u001b[0;36m0\u001b[0m\u001b[0;34m\u001b[0m\u001b[0;34m\u001b[0m\u001b[0m\n\u001b[1;32m      9\u001b[0m \u001b[0;34m\u001b[0m\u001b[0m\n",
            "\u001b[0;32m/usr/local/lib/python3.7/dist-packages/ipykernel/kernelbase.py\u001b[0m in \u001b[0;36mraw_input\u001b[0;34m(self, prompt)\u001b[0m\n\u001b[1;32m    861\u001b[0m             \u001b[0mself\u001b[0m\u001b[0;34m.\u001b[0m\u001b[0m_parent_ident\u001b[0m\u001b[0;34m,\u001b[0m\u001b[0;34m\u001b[0m\u001b[0;34m\u001b[0m\u001b[0m\n\u001b[1;32m    862\u001b[0m             \u001b[0mself\u001b[0m\u001b[0;34m.\u001b[0m\u001b[0m_parent_header\u001b[0m\u001b[0;34m,\u001b[0m\u001b[0;34m\u001b[0m\u001b[0;34m\u001b[0m\u001b[0m\n\u001b[0;32m--> 863\u001b[0;31m             \u001b[0mpassword\u001b[0m\u001b[0;34m=\u001b[0m\u001b[0;32mFalse\u001b[0m\u001b[0;34m,\u001b[0m\u001b[0;34m\u001b[0m\u001b[0;34m\u001b[0m\u001b[0m\n\u001b[0m\u001b[1;32m    864\u001b[0m         )\n\u001b[1;32m    865\u001b[0m \u001b[0;34m\u001b[0m\u001b[0m\n",
            "\u001b[0;32m/usr/local/lib/python3.7/dist-packages/ipykernel/kernelbase.py\u001b[0m in \u001b[0;36m_input_request\u001b[0;34m(self, prompt, ident, parent, password)\u001b[0m\n\u001b[1;32m    902\u001b[0m             \u001b[0;32mexcept\u001b[0m \u001b[0mKeyboardInterrupt\u001b[0m\u001b[0;34m:\u001b[0m\u001b[0;34m\u001b[0m\u001b[0;34m\u001b[0m\u001b[0m\n\u001b[1;32m    903\u001b[0m                 \u001b[0;31m# re-raise KeyboardInterrupt, to truncate traceback\u001b[0m\u001b[0;34m\u001b[0m\u001b[0;34m\u001b[0m\u001b[0;34m\u001b[0m\u001b[0m\n\u001b[0;32m--> 904\u001b[0;31m                 \u001b[0;32mraise\u001b[0m \u001b[0mKeyboardInterrupt\u001b[0m\u001b[0;34m(\u001b[0m\u001b[0;34m\"Interrupted by user\"\u001b[0m\u001b[0;34m)\u001b[0m \u001b[0;32mfrom\u001b[0m \u001b[0;32mNone\u001b[0m\u001b[0;34m\u001b[0m\u001b[0;34m\u001b[0m\u001b[0m\n\u001b[0m\u001b[1;32m    905\u001b[0m             \u001b[0;32mexcept\u001b[0m \u001b[0mException\u001b[0m \u001b[0;32mas\u001b[0m \u001b[0me\u001b[0m\u001b[0;34m:\u001b[0m\u001b[0;34m\u001b[0m\u001b[0;34m\u001b[0m\u001b[0m\n\u001b[1;32m    906\u001b[0m                 \u001b[0mself\u001b[0m\u001b[0;34m.\u001b[0m\u001b[0mlog\u001b[0m\u001b[0;34m.\u001b[0m\u001b[0mwarning\u001b[0m\u001b[0;34m(\u001b[0m\u001b[0;34m\"Invalid Message:\"\u001b[0m\u001b[0;34m,\u001b[0m \u001b[0mexc_info\u001b[0m\u001b[0;34m=\u001b[0m\u001b[0;32mTrue\u001b[0m\u001b[0;34m)\u001b[0m\u001b[0;34m\u001b[0m\u001b[0;34m\u001b[0m\u001b[0m\n",
            "\u001b[0;31mKeyboardInterrupt\u001b[0m: Interrupted by user"
          ]
        }
      ],
      "source": [
        "# 5515. 2016 요일 맞추기. 규칙 주의\n",
        "# 15분 30초 소요\n",
        "\n",
        "day_list=[31,29,31,30,31,30,31,31,30,31,30,31]\n",
        "days=[4,5,6,0,1,2,3]\n",
        "\n",
        "T=int(input())\n",
        "\n",
        "for t in range(1,T+1):\n",
        "  m,d=map(int,input().split())\n",
        "  day_cnt=0\n",
        "\n",
        "  if m>1:\n",
        "    for month in range(m-1): # 당일 월 빼기\n",
        "      day_cnt+=day_list[month]\n",
        "\n",
        "  day_cnt+=d\n",
        "\n",
        "  print(day_cnt)\n",
        "\n",
        "  day=day_cnt%7\n",
        "\n",
        "  print(f'#{t} {days[day-1]}')"
      ]
    },
    {
      "cell_type": "code",
      "source": [
        "# 5162. 두가지 빵의 딜레마\n",
        "# 어쩐지 쉬워보여서 수상했음\n",
        "# 10분 소요\n",
        "T=int(input())\n",
        "\n",
        "for t in range(1,T+1):\n",
        "  A,B,C=map(int,input().split())\n",
        "  cnt=0\n",
        "\n",
        "  if A>B:\n",
        "    pass\n",
        "  else:\n",
        "    A,B=B,A # A가 무조건 큰걸로.\n",
        "\n",
        "  if C<B: # 못삼\n",
        "    print(f'#{t} 0')\n",
        "  else:\n",
        "    for bun in [B,A]:\n",
        "      cnt+=C//bun\n",
        "      C%=bun\n",
        "        \n",
        "    print(f'#{t} {cnt}')"
      ],
      "metadata": {
        "colab": {
          "base_uri": "https://localhost:8080/"
        },
        "id": "oDE0UNW59gqg",
        "outputId": "4f79198e-ea27-4788-ac46-6caaa34d61d4"
      },
      "execution_count": 10,
      "outputs": [
        {
          "output_type": "stream",
          "name": "stdout",
          "text": [
            "1\n",
            "6 8 20\n",
            "#1 3\n"
          ]
        }
      ]
    },
    {
      "cell_type": "code",
      "source": [
        "# 1229. 암호문2\n",
        "# x의 위치 바로 다음이라는데 걍 x부터 하면됨. x의 위치면 원래 인덱스는 x-1\n",
        "# 30분 소요\n",
        "\n",
        "for t in range(1,11):\n",
        "  N=int(input())\n",
        "  pass_list=list(map(int,input().split()))\n",
        "  command_cnt=int(input())\n",
        "  command_list=list(input().split())\n",
        "\n",
        "  for idx in range(len(command_list)):\n",
        "    if command_list[idx]=='I':\n",
        "      x=int(command_list[idx+1])\n",
        "      if x>N:\n",
        "        continue\n",
        "\n",
        "      y=int(command_list[idx+2])\n",
        "      s=command_list[idx+3:idx+3+y]\n",
        "\n",
        "      for i in range(y):\n",
        "        pass_list.insert(x+i,int(s[i]))\n",
        "\n",
        "    elif command_list[idx]=='D':\n",
        "      x=int(command_list[idx+1])\n",
        "      if x>N:\n",
        "        continue\n",
        "      y=int(command_list[idx+2])\n",
        "      for _ in range(y):\n",
        "        del pass_list[x]\n",
        "\n",
        "  print(f'#{t}',*pass_list[:10])"
      ],
      "metadata": {
        "colab": {
          "base_uri": "https://localhost:8080/",
          "height": 513
        },
        "id": "5P0vqxE9C9lm",
        "outputId": "4b341679-4a51-4a76-96d8-aa348d7aea56"
      },
      "execution_count": 13,
      "outputs": [
        {
          "output_type": "stream",
          "name": "stdout",
          "text": [
            "193\n",
            "701633 517247 207227 598906 709204 177422 933135 361253 641488 272037 700207 210546 897237 133041 350385 701520 298460 312226 606874 129312 960451 613318 383985 199348 152779 133823 818875 580215 459355 605845 834805 106218 905612 938377 391231 841032 683166 453449 557724 407096 123768 365351 651864 882335 864696 185012 837300 411026 659435 607734 300451 177321 851933 842088 867633 861841 417869 236761 949721 684281 140261 244495 123549 991347 524837 347789 412387 144473 282315 594309 458934 483218 360158 677818 266328 683156 206167 513401 354598 777644 198862 605089 222069 663762 417125 366235 796851 788266 298786 528509 357179 399446 106551 359705 307358 240325 800858 174477 622329 503791 280873 594721 102639 535002 434477 554468 542442 543235 802732 557167 158097 756524 525828 953376 895449 465929 627387 540019 664636 841936 155005 118968 240606 430468 534001 186501 398767 882015 547707 156922 269604 546219 214280 971630 989208 257747 669219 368941 652847 691652 402317 893998 828431 493419 661259 708152 192475 818448 237648 124585 341646 357664 511511 143670 756275 435692 394361 860565 766233 250026 401650 262049 562704 300158 134831 950780 320365 639739 115203 447338 264917 375282 760248 670650 850444 736266 445557 821899 281297 709979 135246 248791 397891 974659 615684 637889 415775 256973 694204 816240 405016 418078 411082\n",
            "11\n",
            "I 19 4 281822 746265 450734 108373 I 106 9 666218 302034 208501 648283 798327 631226 998665 959675 852007 D 117 1 D 191 2 D 10 3 D 133 1 D 76 1 I 105 7 362012 585269 876166 894252 294007 210018 659653 I 203 7 352576 568766 700855 768224 339990 691517 213258 D 84 4 I 6 6 291139 808642 764059 913376 124313 256337\n",
            "#1 701633 517247 207227 598906 709204 177422 933135 361253 641488 272037\n"
          ]
        },
        {
          "output_type": "error",
          "ename": "KeyboardInterrupt",
          "evalue": "ignored",
          "traceback": [
            "\u001b[0;31m---------------------------------------------------------------------------\u001b[0m",
            "\u001b[0;31mKeyboardInterrupt\u001b[0m                         Traceback (most recent call last)",
            "\u001b[0;32m<ipython-input-13-a79af5b35c77>\u001b[0m in \u001b[0;36m<module>\u001b[0;34m\u001b[0m\n\u001b[1;32m      1\u001b[0m \u001b[0;32mfor\u001b[0m \u001b[0mt\u001b[0m \u001b[0;32min\u001b[0m \u001b[0mrange\u001b[0m\u001b[0;34m(\u001b[0m\u001b[0;36m1\u001b[0m\u001b[0;34m,\u001b[0m\u001b[0;36m11\u001b[0m\u001b[0;34m)\u001b[0m\u001b[0;34m:\u001b[0m\u001b[0;34m\u001b[0m\u001b[0;34m\u001b[0m\u001b[0m\n\u001b[0;32m----> 2\u001b[0;31m   \u001b[0mN\u001b[0m\u001b[0;34m=\u001b[0m\u001b[0mint\u001b[0m\u001b[0;34m(\u001b[0m\u001b[0minput\u001b[0m\u001b[0;34m(\u001b[0m\u001b[0;34m)\u001b[0m\u001b[0;34m)\u001b[0m\u001b[0;34m\u001b[0m\u001b[0;34m\u001b[0m\u001b[0m\n\u001b[0m\u001b[1;32m      3\u001b[0m   \u001b[0mpass_list\u001b[0m\u001b[0;34m=\u001b[0m\u001b[0mlist\u001b[0m\u001b[0;34m(\u001b[0m\u001b[0mmap\u001b[0m\u001b[0;34m(\u001b[0m\u001b[0mint\u001b[0m\u001b[0;34m,\u001b[0m\u001b[0minput\u001b[0m\u001b[0;34m(\u001b[0m\u001b[0;34m)\u001b[0m\u001b[0;34m.\u001b[0m\u001b[0msplit\u001b[0m\u001b[0;34m(\u001b[0m\u001b[0;34m)\u001b[0m\u001b[0;34m)\u001b[0m\u001b[0;34m)\u001b[0m\u001b[0;34m\u001b[0m\u001b[0;34m\u001b[0m\u001b[0m\n\u001b[1;32m      4\u001b[0m   \u001b[0mcommand_cnt\u001b[0m\u001b[0;34m=\u001b[0m\u001b[0mint\u001b[0m\u001b[0;34m(\u001b[0m\u001b[0minput\u001b[0m\u001b[0;34m(\u001b[0m\u001b[0;34m)\u001b[0m\u001b[0;34m)\u001b[0m\u001b[0;34m\u001b[0m\u001b[0;34m\u001b[0m\u001b[0m\n\u001b[1;32m      5\u001b[0m   \u001b[0mcommand_list\u001b[0m\u001b[0;34m=\u001b[0m\u001b[0mlist\u001b[0m\u001b[0;34m(\u001b[0m\u001b[0minput\u001b[0m\u001b[0;34m(\u001b[0m\u001b[0;34m)\u001b[0m\u001b[0;34m.\u001b[0m\u001b[0msplit\u001b[0m\u001b[0;34m(\u001b[0m\u001b[0;34m)\u001b[0m\u001b[0;34m)\u001b[0m\u001b[0;34m\u001b[0m\u001b[0;34m\u001b[0m\u001b[0m\n",
            "\u001b[0;32m/usr/local/lib/python3.7/dist-packages/ipykernel/kernelbase.py\u001b[0m in \u001b[0;36mraw_input\u001b[0;34m(self, prompt)\u001b[0m\n\u001b[1;32m    861\u001b[0m             \u001b[0mself\u001b[0m\u001b[0;34m.\u001b[0m\u001b[0m_parent_ident\u001b[0m\u001b[0;34m,\u001b[0m\u001b[0;34m\u001b[0m\u001b[0;34m\u001b[0m\u001b[0m\n\u001b[1;32m    862\u001b[0m             \u001b[0mself\u001b[0m\u001b[0;34m.\u001b[0m\u001b[0m_parent_header\u001b[0m\u001b[0;34m,\u001b[0m\u001b[0;34m\u001b[0m\u001b[0;34m\u001b[0m\u001b[0m\n\u001b[0;32m--> 863\u001b[0;31m             \u001b[0mpassword\u001b[0m\u001b[0;34m=\u001b[0m\u001b[0;32mFalse\u001b[0m\u001b[0;34m,\u001b[0m\u001b[0;34m\u001b[0m\u001b[0;34m\u001b[0m\u001b[0m\n\u001b[0m\u001b[1;32m    864\u001b[0m         )\n\u001b[1;32m    865\u001b[0m \u001b[0;34m\u001b[0m\u001b[0m\n",
            "\u001b[0;32m/usr/local/lib/python3.7/dist-packages/ipykernel/kernelbase.py\u001b[0m in \u001b[0;36m_input_request\u001b[0;34m(self, prompt, ident, parent, password)\u001b[0m\n\u001b[1;32m    902\u001b[0m             \u001b[0;32mexcept\u001b[0m \u001b[0mKeyboardInterrupt\u001b[0m\u001b[0;34m:\u001b[0m\u001b[0;34m\u001b[0m\u001b[0;34m\u001b[0m\u001b[0m\n\u001b[1;32m    903\u001b[0m                 \u001b[0;31m# re-raise KeyboardInterrupt, to truncate traceback\u001b[0m\u001b[0;34m\u001b[0m\u001b[0;34m\u001b[0m\u001b[0;34m\u001b[0m\u001b[0m\n\u001b[0;32m--> 904\u001b[0;31m                 \u001b[0;32mraise\u001b[0m \u001b[0mKeyboardInterrupt\u001b[0m\u001b[0;34m(\u001b[0m\u001b[0;34m\"Interrupted by user\"\u001b[0m\u001b[0;34m)\u001b[0m \u001b[0;32mfrom\u001b[0m \u001b[0;32mNone\u001b[0m\u001b[0;34m\u001b[0m\u001b[0;34m\u001b[0m\u001b[0m\n\u001b[0m\u001b[1;32m    905\u001b[0m             \u001b[0;32mexcept\u001b[0m \u001b[0mException\u001b[0m \u001b[0;32mas\u001b[0m \u001b[0me\u001b[0m\u001b[0;34m:\u001b[0m\u001b[0;34m\u001b[0m\u001b[0;34m\u001b[0m\u001b[0m\n\u001b[1;32m    906\u001b[0m                 \u001b[0mself\u001b[0m\u001b[0;34m.\u001b[0m\u001b[0mlog\u001b[0m\u001b[0;34m.\u001b[0m\u001b[0mwarning\u001b[0m\u001b[0;34m(\u001b[0m\u001b[0;34m\"Invalid Message:\"\u001b[0m\u001b[0;34m,\u001b[0m \u001b[0mexc_info\u001b[0m\u001b[0;34m=\u001b[0m\u001b[0;32mTrue\u001b[0m\u001b[0;34m)\u001b[0m\u001b[0;34m\u001b[0m\u001b[0;34m\u001b[0m\u001b[0m\n",
            "\u001b[0;31mKeyboardInterrupt\u001b[0m: Interrupted by user"
          ]
        }
      ]
    },
    {
      "cell_type": "code",
      "source": [
        "# 1206. View\n",
        "# 41분 20초 걸림\n",
        "\n",
        "for t in range(1,11):\n",
        "  N=int(input())\n",
        "  heights=list(map(int,input().split()))\n",
        "  cnt=0\n",
        "\n",
        "  height_map=[[False]*max(heights) for _ in range(N)] # N개 건물 최대높이 max(heights)\n",
        "\n",
        "  for h_idx in range(2,N-2):\n",
        "    for height in range(heights[h_idx]):\n",
        "      height_map[h_idx][height]=True\n",
        "\n",
        "  #for a in height_map:\n",
        "   # print(a)\n",
        "  for h_idx in range(2,N-2):\n",
        "    #print(h_idx,'번 건물탐색')\n",
        "    for height in range(heights[h_idx]):\n",
        "      flag=1\n",
        "      #print('위쪽',h_idx-2,h_idx-1,'아래쪽',h_idx+1,h_idx+2,'탐색중. 현재높이',height)\n",
        "\n",
        "      if height_map[h_idx][height]==False: #빈공간\n",
        "        continue\n",
        "      \n",
        "      for chk in [-2,-1,1,2]:\n",
        "        if height_map[h_idx+chk][height]==True: # 건물\n",
        "          flag=0\n",
        "          break # 체크안해도됨\n",
        "\n",
        "      if flag==1:\n",
        "       # print('조망권 확보')\n",
        "        cnt+=1\n",
        "\n",
        "  print(f'#{t} {cnt}')"
      ],
      "metadata": {
        "colab": {
          "base_uri": "https://localhost:8080/",
          "height": 1000
        },
        "id": "Os3nqeAYInLQ",
        "outputId": "60229829-f90b-45c5-ec85-aea3285e8e73"
      },
      "execution_count": 28,
      "outputs": [
        {
          "output_type": "stream",
          "name": "stdout",
          "text": [
            "14\n",
            "0 0 3 5 2 4 9 0 6 4 0 6 0 0\n",
            "[False, False, False, False, False, False, False, False, False]\n",
            "[False, False, False, False, False, False, False, False, False]\n",
            "[True, True, True, False, False, False, False, False, False]\n",
            "[True, True, True, True, True, False, False, False, False]\n",
            "[True, True, False, False, False, False, False, False, False]\n",
            "[True, True, True, True, False, False, False, False, False]\n",
            "[True, True, True, True, True, True, True, True, True]\n",
            "[False, False, False, False, False, False, False, False, False]\n",
            "[True, True, True, True, True, True, False, False, False]\n",
            "[True, True, True, True, False, False, False, False, False]\n",
            "[False, False, False, False, False, False, False, False, False]\n",
            "[True, True, True, True, True, True, False, False, False]\n",
            "[False, False, False, False, False, False, False, False, False]\n",
            "[False, False, False, False, False, False, False, False, False]\n",
            "2 번 건물탐색\n",
            "위쪽 0 1 아래쪽 3 4 탐색중. 현재높이 0\n",
            "위쪽 0 1 아래쪽 3 4 탐색중. 현재높이 1\n",
            "위쪽 0 1 아래쪽 3 4 탐색중. 현재높이 2\n",
            "3 번 건물탐색\n",
            "위쪽 1 2 아래쪽 4 5 탐색중. 현재높이 0\n",
            "위쪽 1 2 아래쪽 4 5 탐색중. 현재높이 1\n",
            "위쪽 1 2 아래쪽 4 5 탐색중. 현재높이 2\n",
            "위쪽 1 2 아래쪽 4 5 탐색중. 현재높이 3\n",
            "위쪽 1 2 아래쪽 4 5 탐색중. 현재높이 4\n",
            "조망권 확보\n",
            "4 번 건물탐색\n",
            "위쪽 2 3 아래쪽 5 6 탐색중. 현재높이 0\n",
            "위쪽 2 3 아래쪽 5 6 탐색중. 현재높이 1\n",
            "5 번 건물탐색\n",
            "위쪽 3 4 아래쪽 6 7 탐색중. 현재높이 0\n",
            "위쪽 3 4 아래쪽 6 7 탐색중. 현재높이 1\n",
            "위쪽 3 4 아래쪽 6 7 탐색중. 현재높이 2\n",
            "위쪽 3 4 아래쪽 6 7 탐색중. 현재높이 3\n",
            "6 번 건물탐색\n",
            "위쪽 4 5 아래쪽 7 8 탐색중. 현재높이 0\n",
            "위쪽 4 5 아래쪽 7 8 탐색중. 현재높이 1\n",
            "위쪽 4 5 아래쪽 7 8 탐색중. 현재높이 2\n",
            "위쪽 4 5 아래쪽 7 8 탐색중. 현재높이 3\n",
            "위쪽 4 5 아래쪽 7 8 탐색중. 현재높이 4\n",
            "위쪽 4 5 아래쪽 7 8 탐색중. 현재높이 5\n",
            "위쪽 4 5 아래쪽 7 8 탐색중. 현재높이 6\n",
            "조망권 확보\n",
            "위쪽 4 5 아래쪽 7 8 탐색중. 현재높이 7\n",
            "조망권 확보\n",
            "위쪽 4 5 아래쪽 7 8 탐색중. 현재높이 8\n",
            "조망권 확보\n",
            "7 번 건물탐색\n",
            "8 번 건물탐색\n",
            "위쪽 6 7 아래쪽 9 10 탐색중. 현재높이 0\n",
            "위쪽 6 7 아래쪽 9 10 탐색중. 현재높이 1\n",
            "위쪽 6 7 아래쪽 9 10 탐색중. 현재높이 2\n",
            "위쪽 6 7 아래쪽 9 10 탐색중. 현재높이 3\n",
            "위쪽 6 7 아래쪽 9 10 탐색중. 현재높이 4\n",
            "위쪽 6 7 아래쪽 9 10 탐색중. 현재높이 5\n",
            "9 번 건물탐색\n",
            "위쪽 7 8 아래쪽 10 11 탐색중. 현재높이 0\n",
            "위쪽 7 8 아래쪽 10 11 탐색중. 현재높이 1\n",
            "위쪽 7 8 아래쪽 10 11 탐색중. 현재높이 2\n",
            "위쪽 7 8 아래쪽 10 11 탐색중. 현재높이 3\n",
            "10 번 건물탐색\n",
            "11 번 건물탐색\n",
            "위쪽 9 10 아래쪽 12 13 탐색중. 현재높이 0\n",
            "위쪽 9 10 아래쪽 12 13 탐색중. 현재높이 1\n",
            "위쪽 9 10 아래쪽 12 13 탐색중. 현재높이 2\n",
            "위쪽 9 10 아래쪽 12 13 탐색중. 현재높이 3\n",
            "위쪽 9 10 아래쪽 12 13 탐색중. 현재높이 4\n",
            "조망권 확보\n",
            "위쪽 9 10 아래쪽 12 13 탐색중. 현재높이 5\n",
            "조망권 확보\n",
            "#1 6\n"
          ]
        },
        {
          "output_type": "error",
          "ename": "KeyboardInterrupt",
          "evalue": "ignored",
          "traceback": [
            "\u001b[0;31m---------------------------------------------------------------------------\u001b[0m",
            "\u001b[0;31mKeyboardInterrupt\u001b[0m                         Traceback (most recent call last)",
            "\u001b[0;32m<ipython-input-28-fa47c72351be>\u001b[0m in \u001b[0;36m<module>\u001b[0;34m\u001b[0m\n\u001b[1;32m      1\u001b[0m \u001b[0;32mfor\u001b[0m \u001b[0mt\u001b[0m \u001b[0;32min\u001b[0m \u001b[0mrange\u001b[0m\u001b[0;34m(\u001b[0m\u001b[0;36m1\u001b[0m\u001b[0;34m,\u001b[0m\u001b[0;36m11\u001b[0m\u001b[0;34m)\u001b[0m\u001b[0;34m:\u001b[0m\u001b[0;34m\u001b[0m\u001b[0;34m\u001b[0m\u001b[0m\n\u001b[0;32m----> 2\u001b[0;31m   \u001b[0mN\u001b[0m\u001b[0;34m=\u001b[0m\u001b[0mint\u001b[0m\u001b[0;34m(\u001b[0m\u001b[0minput\u001b[0m\u001b[0;34m(\u001b[0m\u001b[0;34m)\u001b[0m\u001b[0;34m)\u001b[0m\u001b[0;34m\u001b[0m\u001b[0;34m\u001b[0m\u001b[0m\n\u001b[0m\u001b[1;32m      3\u001b[0m   \u001b[0mheights\u001b[0m\u001b[0;34m=\u001b[0m\u001b[0mlist\u001b[0m\u001b[0;34m(\u001b[0m\u001b[0mmap\u001b[0m\u001b[0;34m(\u001b[0m\u001b[0mint\u001b[0m\u001b[0;34m,\u001b[0m\u001b[0minput\u001b[0m\u001b[0;34m(\u001b[0m\u001b[0;34m)\u001b[0m\u001b[0;34m.\u001b[0m\u001b[0msplit\u001b[0m\u001b[0;34m(\u001b[0m\u001b[0;34m)\u001b[0m\u001b[0;34m)\u001b[0m\u001b[0;34m)\u001b[0m\u001b[0;34m\u001b[0m\u001b[0;34m\u001b[0m\u001b[0m\n\u001b[1;32m      4\u001b[0m   \u001b[0mcnt\u001b[0m\u001b[0;34m=\u001b[0m\u001b[0;36m0\u001b[0m\u001b[0;34m\u001b[0m\u001b[0;34m\u001b[0m\u001b[0m\n\u001b[1;32m      5\u001b[0m \u001b[0;34m\u001b[0m\u001b[0m\n",
            "\u001b[0;32m/usr/local/lib/python3.7/dist-packages/ipykernel/kernelbase.py\u001b[0m in \u001b[0;36mraw_input\u001b[0;34m(self, prompt)\u001b[0m\n\u001b[1;32m    861\u001b[0m             \u001b[0mself\u001b[0m\u001b[0;34m.\u001b[0m\u001b[0m_parent_ident\u001b[0m\u001b[0;34m,\u001b[0m\u001b[0;34m\u001b[0m\u001b[0;34m\u001b[0m\u001b[0m\n\u001b[1;32m    862\u001b[0m             \u001b[0mself\u001b[0m\u001b[0;34m.\u001b[0m\u001b[0m_parent_header\u001b[0m\u001b[0;34m,\u001b[0m\u001b[0;34m\u001b[0m\u001b[0;34m\u001b[0m\u001b[0m\n\u001b[0;32m--> 863\u001b[0;31m             \u001b[0mpassword\u001b[0m\u001b[0;34m=\u001b[0m\u001b[0;32mFalse\u001b[0m\u001b[0;34m,\u001b[0m\u001b[0;34m\u001b[0m\u001b[0;34m\u001b[0m\u001b[0m\n\u001b[0m\u001b[1;32m    864\u001b[0m         )\n\u001b[1;32m    865\u001b[0m \u001b[0;34m\u001b[0m\u001b[0m\n",
            "\u001b[0;32m/usr/local/lib/python3.7/dist-packages/ipykernel/kernelbase.py\u001b[0m in \u001b[0;36m_input_request\u001b[0;34m(self, prompt, ident, parent, password)\u001b[0m\n\u001b[1;32m    902\u001b[0m             \u001b[0;32mexcept\u001b[0m \u001b[0mKeyboardInterrupt\u001b[0m\u001b[0;34m:\u001b[0m\u001b[0;34m\u001b[0m\u001b[0;34m\u001b[0m\u001b[0m\n\u001b[1;32m    903\u001b[0m                 \u001b[0;31m# re-raise KeyboardInterrupt, to truncate traceback\u001b[0m\u001b[0;34m\u001b[0m\u001b[0;34m\u001b[0m\u001b[0;34m\u001b[0m\u001b[0m\n\u001b[0;32m--> 904\u001b[0;31m                 \u001b[0;32mraise\u001b[0m \u001b[0mKeyboardInterrupt\u001b[0m\u001b[0;34m(\u001b[0m\u001b[0;34m\"Interrupted by user\"\u001b[0m\u001b[0;34m)\u001b[0m \u001b[0;32mfrom\u001b[0m \u001b[0;32mNone\u001b[0m\u001b[0;34m\u001b[0m\u001b[0;34m\u001b[0m\u001b[0m\n\u001b[0m\u001b[1;32m    905\u001b[0m             \u001b[0;32mexcept\u001b[0m \u001b[0mException\u001b[0m \u001b[0;32mas\u001b[0m \u001b[0me\u001b[0m\u001b[0;34m:\u001b[0m\u001b[0;34m\u001b[0m\u001b[0;34m\u001b[0m\u001b[0m\n\u001b[1;32m    906\u001b[0m                 \u001b[0mself\u001b[0m\u001b[0;34m.\u001b[0m\u001b[0mlog\u001b[0m\u001b[0;34m.\u001b[0m\u001b[0mwarning\u001b[0m\u001b[0;34m(\u001b[0m\u001b[0;34m\"Invalid Message:\"\u001b[0m\u001b[0;34m,\u001b[0m \u001b[0mexc_info\u001b[0m\u001b[0;34m=\u001b[0m\u001b[0;32mTrue\u001b[0m\u001b[0;34m)\u001b[0m\u001b[0;34m\u001b[0m\u001b[0;34m\u001b[0m\u001b[0m\n",
            "\u001b[0;31mKeyboardInterrupt\u001b[0m: Interrupted by user"
          ]
        }
      ]
    },
    {
      "cell_type": "code",
      "source": [
        "# 11856. 반반\n",
        "# 32분 30초 썼지만 어디가 틀렸는지 못찾았음\n",
        "\n",
        "T=int(input())\n",
        "\n",
        "for t in range(1,T+1):\n",
        "  S=input()\n",
        "\n",
        "  if S[0:2]==S[2:5]: # 반반이 같다\n",
        "    if (S.count(S[0])==2 and S.count(S[2])==2):\n",
        "      print(f'#{t} Yes')\n",
        "    else:\n",
        "      print(f'#{t} No')\n",
        "\n",
        "  elif S[0:2]!=S[2:5]:\n",
        "      if S.count(S[0])==2 and S.count(S[1])==2:\n",
        "    #or ''.join(list(reversed(S[0:2])))==S[2:5] or ''.join(list(reversed(S[2:5])))==S[0:2]:\n",
        "        print(f'#{t} Yes')\n",
        "      else:\n",
        "        print(f'#{t} No')\n",
        "  else:\n",
        "    print(f'#{t} No')"
      ],
      "metadata": {
        "colab": {
          "base_uri": "https://localhost:8080/"
        },
        "id": "8gCPHGQmUJwH",
        "outputId": "47784b7a-a395-42cf-b750-f25d0d3a5e57"
      },
      "execution_count": 41,
      "outputs": [
        {
          "output_type": "stream",
          "name": "stdout",
          "text": [
            "5\n",
            "ABAB\n",
            "#1 Yes\n",
            "CCDD\n",
            "#2 Yes\n",
            "EFFE\n",
            "#3 Yes\n",
            "EEEE\n",
            "#4 No\n",
            "NONE\n",
            "#5 No\n"
          ]
        }
      ]
    },
    {
      "cell_type": "code",
      "source": [
        "# 14178. 1차원 정원\n",
        "# 9분 소요\n",
        "\n",
        "T=int(input())\n",
        "\n",
        "for t in range(1,T+1):\n",
        "  N,D=map(int,input().split())\n",
        "\n",
        "  if N%(D*2+1)!=0: #남은 영역 보유시\n",
        "    print(f'#{t} {N//(D*2+1)+1}')\n",
        "  else:\n",
        "    print(f'#{t} {N//(D*2+1)}')"
      ],
      "metadata": {
        "colab": {
          "base_uri": "https://localhost:8080/"
        },
        "id": "c-iMAvgYbMaA",
        "outputId": "2e5f243e-16b0-44e2-b98a-a4baa018e0dd"
      },
      "execution_count": 44,
      "outputs": [
        {
          "output_type": "stream",
          "name": "stdout",
          "text": [
            "3\n",
            "5 1\n",
            "#1 2\n",
            "5 2\n",
            "#2 1\n",
            "100 3\n",
            "#3 15\n"
          ]
        }
      ]
    },
    {
      "cell_type": "code",
      "source": [
        "5"
      ],
      "metadata": {
        "id": "tRB1-4xybxIz"
      },
      "execution_count": null,
      "outputs": []
    }
  ]
}