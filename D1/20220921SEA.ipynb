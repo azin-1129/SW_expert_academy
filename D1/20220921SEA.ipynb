{
 "cells": [
  {
   "cell_type": "markdown",
   "id": "3dfa4ec1",
   "metadata": {},
   "source": [
    "### 1936. 1:1 가위바위보"
   ]
  },
  {
   "cell_type": "code",
   "execution_count": 2,
   "id": "03a9035e",
   "metadata": {},
   "outputs": [
    {
     "name": "stdout",
     "output_type": "stream",
     "text": [
      "1 3\n",
      "A\n"
     ]
    }
   ],
   "source": [
    "# 12분\n",
    "\n",
    "A,B=map(int,input().split())\n",
    "\n",
    "if A==1:\n",
    "    if B==2:\n",
    "        print('B')\n",
    "    else:\n",
    "        print('A')\n",
    "elif A==2:\n",
    "    if B==1:\n",
    "        print('A')\n",
    "    else:\n",
    "        print('B')\n",
    "else:\n",
    "    if B==1:\n",
    "        print('B')\n",
    "    else:\n",
    "        print('A')"
   ]
  },
  {
   "cell_type": "markdown",
   "id": "bcf246f2",
   "metadata": {},
   "source": [
    "### 2019. 더블더블"
   ]
  },
  {
   "cell_type": "code",
   "execution_count": 4,
   "id": "2b4d4529",
   "metadata": {},
   "outputs": [
    {
     "name": "stdout",
     "output_type": "stream",
     "text": [
      "8\n",
      "1 2 4 8 16 32 64 128 256 "
     ]
    }
   ],
   "source": [
    "# 3분\n",
    "\n",
    "N=int(input())\n",
    "for i in range(0,N+1):\n",
    "    print(2**i,end=' ')"
   ]
  },
  {
   "cell_type": "markdown",
   "id": "ab4cabe0",
   "metadata": {},
   "source": [
    "### 1545. 거꾸로 출력해 보아요"
   ]
  },
  {
   "cell_type": "code",
   "execution_count": 6,
   "id": "e29c4e47",
   "metadata": {},
   "outputs": [
    {
     "name": "stdout",
     "output_type": "stream",
     "text": [
      "8\n",
      "8 7 6 5 4 3 2 1 0 "
     ]
    }
   ],
   "source": [
    "# 1분\n",
    "\n",
    "N=int(input())\n",
    "\n",
    "for i in range(N,-1,-1):\n",
    "    print(i, end=' ')"
   ]
  }
 ],
 "metadata": {
  "kernelspec": {
   "display_name": "Python 3 (ipykernel)",
   "language": "python",
   "name": "python3"
  },
  "language_info": {
   "codemirror_mode": {
    "name": "ipython",
    "version": 3
   },
   "file_extension": ".py",
   "mimetype": "text/x-python",
   "name": "python",
   "nbconvert_exporter": "python",
   "pygments_lexer": "ipython3",
   "version": "3.9.12"
  }
 },
 "nbformat": 4,
 "nbformat_minor": 5
}
