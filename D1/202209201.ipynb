{
 "cells": [
  {
   "cell_type": "markdown",
   "id": "d3f8cab2",
   "metadata": {},
   "source": [
    "## 2029. 몫과 나머지 출력하기"
   ]
  },
  {
   "cell_type": "code",
   "execution_count": 1,
   "id": "de93e12d",
   "metadata": {},
   "outputs": [
    {
     "name": "stdout",
     "output_type": "stream",
     "text": [
      "3\n",
      "9 2\n",
      "#1 4 1\n",
      "15 6\n",
      "#2 2 3\n",
      "369 15\n",
      "#3 24 9\n"
     ]
    }
   ],
   "source": [
    "T=int(input())\n",
    "\n",
    "for t in range(1,T+1):\n",
    "    a,b=map(int,input().split())\n",
    "    print(f\"#{t} {a//b} {a%b}\")"
   ]
  },
  {
   "cell_type": "markdown",
   "id": "537d1485",
   "metadata": {},
   "source": [
    "## 2027. 대각선 출력하기"
   ]
  },
  {
   "cell_type": "code",
   "execution_count": 7,
   "id": "fa49a3c8",
   "metadata": {},
   "outputs": [
    {
     "name": "stdout",
     "output_type": "stream",
     "text": [
      "#++++\n",
      "+#+++\n",
      "++#++\n",
      "+++#+\n",
      "++++#\n"
     ]
    }
   ],
   "source": [
    "for i in range(5):\n",
    "    test=['+']*5\n",
    "    test[i]='#'\n",
    "    print(''.join(test))"
   ]
  },
  {
   "cell_type": "markdown",
   "id": "ec5236ed",
   "metadata": {},
   "source": [
    "## 2025. N줄 덧셈"
   ]
  },
  {
   "cell_type": "code",
   "execution_count": 8,
   "id": "6893f950",
   "metadata": {},
   "outputs": [
    {
     "name": "stdout",
     "output_type": "stream",
     "text": [
      "10\n",
      "55\n"
     ]
    }
   ],
   "source": [
    "N=int(input())\n",
    "result=0\n",
    "\n",
    "for i in range(1,N+1):\n",
    "    result+=i\n",
    "    \n",
    "print(result)"
   ]
  },
  {
   "cell_type": "markdown",
   "id": "1f3d2220",
   "metadata": {},
   "source": [
    "## 1938. 아주 간단한 계산기"
   ]
  },
  {
   "cell_type": "code",
   "execution_count": 15,
   "id": "78f5b690",
   "metadata": {},
   "outputs": [
    {
     "name": "stdout",
     "output_type": "stream",
     "text": [
      "8 3\n",
      "11\n",
      "5\n",
      "24\n",
      "2\n"
     ]
    }
   ],
   "source": [
    "# a,b=map(int,input().split())\n",
    "# compute=['+','-','*','//']\n",
    "\n",
    "# for comp in compute:\n",
    "#     print(eval(str(a)+comp+str(b)))\n",
    "    \n",
    "# eval 이 허용되지 않는 라이브러리네\n",
    "\n",
    "a,b=map(int,input().split())\n",
    "\n",
    "print(a+b)\n",
    "print(a-b)\n",
    "print(a*b)\n",
    "print(a//b)\n",
    "\n",
    "# 너무 단순한데,,"
   ]
  },
  {
   "cell_type": "markdown",
   "id": "6d592f4d",
   "metadata": {},
   "source": [
    "## 1933. 간단한 N의 약수"
   ]
  },
  {
   "cell_type": "code",
   "execution_count": 17,
   "id": "59f7e494",
   "metadata": {},
   "outputs": [
    {
     "name": "stdout",
     "output_type": "stream",
     "text": [
      "10\n",
      "1 2 5 10 "
     ]
    }
   ],
   "source": [
    "N=int(input())\n",
    "res=[]\n",
    "\n",
    "for i in range(1,int(N**0.5)+1):\n",
    "    if N%i==0:\n",
    "        res.append(i)\n",
    "        if i**2!=N:\n",
    "            res.append(N//i)\n",
    "            \n",
    "res.sort()\n",
    "\n",
    "for cookie in res:\n",
    "    print(cookie,end=' ')"
   ]
  }
 ],
 "metadata": {
  "kernelspec": {
   "display_name": "Python 3 (ipykernel)",
   "language": "python",
   "name": "python3"
  },
  "language_info": {
   "codemirror_mode": {
    "name": "ipython",
    "version": 3
   },
   "file_extension": ".py",
   "mimetype": "text/x-python",
   "name": "python",
   "nbconvert_exporter": "python",
   "pygments_lexer": "ipython3",
   "version": "3.9.12"
  }
 },
 "nbformat": 4,
 "nbformat_minor": 5
}
