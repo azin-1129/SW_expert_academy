{
 "cells": [
  {
   "cell_type": "markdown",
   "id": "284a72a3",
   "metadata": {},
   "source": [
    "## 2072. 홀수만 더하기"
   ]
  },
  {
   "cell_type": "code",
   "execution_count": 5,
   "id": "f195551f",
   "metadata": {
    "scrolled": true
   },
   "outputs": [
    {
     "name": "stdout",
     "output_type": "stream",
     "text": [
      "3\n",
      "3 17 1 39 8 41 2 32 99 2\n",
      "#1 200\n",
      "22 8 5 123 7 2 63 7 3 46\n",
      "#2 208\n",
      "6 63 2 3 58 76 21 33 8 1\n",
      "#3 121\n"
     ]
    }
   ],
   "source": [
    "# 20분 걸림\n",
    "\n",
    "def check(now):\n",
    "    if num%2!=0:\n",
    "        return True\n",
    "    \n",
    "t=int(input())\n",
    "\n",
    "for i in range(t):\n",
    "    res=0\n",
    "    nums=list(map(int,input().split()))\n",
    "    \n",
    "    for num in nums:\n",
    "        if check(num):\n",
    "            res+=num\n",
    "            \n",
    "    print(\"#%d %d\"%(i+1,res))"
   ]
  },
  {
   "cell_type": "markdown",
   "id": "4632aeb4",
   "metadata": {},
   "source": [
    "## 2071. 평균값 구하기"
   ]
  },
  {
   "cell_type": "code",
   "execution_count": 8,
   "id": "067c4587",
   "metadata": {},
   "outputs": [
    {
     "name": "stdout",
     "output_type": "stream",
     "text": [
      "1\n",
      "6 63 2 3 58 76 21 33 8 1\n",
      "#2 27\n"
     ]
    }
   ],
   "source": [
    "# 10분 걸린 듯\n",
    "\n",
    "import sys\n",
    "sys.stdin = open(\"input.txt\", \"r\")\n",
    "\n",
    "T = int(input())\n",
    "# 여러개의 테스트 케이스가 주어지므로, 각각을 처리합니다.\n",
    "for test_case in range(1, T + 1):\n",
    "    # ///////////////////////////////////////////////////////////////////////////////////\n",
    "    nums=list(map(int,input().split()))\n",
    "    \n",
    "    print(\"#%d %d\"%(i, round(sum(nums)/len(nums))))\n",
    "    # ///////////////////////////////////////////////////////////////////////////////////\n"
   ]
  },
  {
   "cell_type": "markdown",
   "id": "9c922adc",
   "metadata": {},
   "source": [
    "## 2070. 큰 놈, 작은 놈, 같은 놈"
   ]
  },
  {
   "cell_type": "code",
   "execution_count": 9,
   "id": "ff001049",
   "metadata": {},
   "outputs": [
    {
     "name": "stdout",
     "output_type": "stream",
     "text": [
      "3\n",
      "3 8\n",
      "#1 <\n",
      "7 7\n",
      "#2 =\n",
      "369 123\n",
      "#3 >\n"
     ]
    }
   ],
   "source": [
    "# 10분 정도 걸린 듯\n",
    "\n",
    "def check(x,y):\n",
    "    if x>y:\n",
    "        return '>'\n",
    "    elif x<y:\n",
    "        return '<'\n",
    "    else:\n",
    "        return '='\n",
    "    \n",
    "T=int(input())\n",
    "\n",
    "for i in range(1,T+1):\n",
    "    x,y=map(int,input().split())\n",
    "    print(\"#%d %s\"%(i,check(x,y)))"
   ]
  },
  {
   "cell_type": "markdown",
   "id": "e22bda25",
   "metadata": {},
   "source": [
    "## 2068. 최대수 구하기"
   ]
  },
  {
   "cell_type": "code",
   "execution_count": 10,
   "id": "b4e1add6",
   "metadata": {},
   "outputs": [
    {
     "name": "stdout",
     "output_type": "stream",
     "text": [
      "3\n",
      "3 17 1 39 8 41 2 32 99 2\n",
      "#1 99\n",
      "22 8 5 123 7 2 63 7 3 46\n",
      "#2 123\n",
      "6 63 2 3 58 76 21 33 8 1\n",
      "#3 76\n"
     ]
    }
   ],
   "source": [
    "# 5분 걸린듯\n",
    "\n",
    "T=int(input())\n",
    "\n",
    "for i in range(1,T+1):\n",
    "    nums=list(map(int,input().split()))\n",
    "    print('#%d %d'%(i,max(nums)))"
   ]
  },
  {
   "cell_type": "markdown",
   "id": "7838ea2e",
   "metadata": {},
   "source": [
    "## 2063. 중간값 찾기"
   ]
  },
  {
   "cell_type": "code",
   "execution_count": 18,
   "id": "10bdbc1a",
   "metadata": {},
   "outputs": [
    {
     "name": "stdout",
     "output_type": "stream",
     "text": [
      "199\n",
      "85 72 38 80 69 65 68 96 22 49 67 51 61 63 87 66 24 80 83 71 60 64 52 90 60 49 31 23 99 94 11 25 24 51 15 13 39 67 97 19 76 12 33 99 18 92 35 74 0 95 71 39 33 39 32 37 45 57 71 95 5 71 24 86 8 51 54 74 24 75 70 33 63 29 99 59 94 52 13 35 99 46 57 71 23 17 3 94 48 77 18 83 11 83 25 59 62 2 78 86 7 94 65 80 32 39 84 60 65 72 61 58 84 8 72 12 19 47 49 49 59 71 52 34 22 21 20 92 33 80 39 74 9 28 97 100 93 29 25 4 66 79 81 98 21 91 62 82 4 59 100 34 1 51 80 92 69 77 39 38 97 51 34 35 19 22 1 67 9 90 31 82 11 51 84 78 70 74 42 100 88 53 80 57 62 32 51 48 63 92 46 4 61 31 98 69 52 88 20\n",
      "58\n"
     ]
    }
   ],
   "source": [
    "# 9분 30초 걸림\n",
    "\n",
    "N=int(input())\n",
    "nums=list(map(int,input().split()))\n",
    "nums.sort()\n",
    "print(nums[int(N/2)])"
   ]
  },
  {
   "cell_type": "code",
   "execution_count": null,
   "id": "acd11cbd",
   "metadata": {},
   "outputs": [],
   "source": []
  }
 ],
 "metadata": {
  "kernelspec": {
   "display_name": "Python 3 (ipykernel)",
   "language": "python",
   "name": "python3"
  },
  "language_info": {
   "codemirror_mode": {
    "name": "ipython",
    "version": 3
   },
   "file_extension": ".py",
   "mimetype": "text/x-python",
   "name": "python",
   "nbconvert_exporter": "python",
   "pygments_lexer": "ipython3",
   "version": "3.9.12"
  }
 },
 "nbformat": 4,
 "nbformat_minor": 5
}
