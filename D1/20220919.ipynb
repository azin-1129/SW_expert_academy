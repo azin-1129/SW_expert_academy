{
 "cells": [
  {
   "cell_type": "markdown",
   "id": "2c02fd46",
   "metadata": {},
   "source": [
    "## 2058. 자릿수 더하기"
   ]
  },
  {
   "cell_type": "code",
   "execution_count": null,
   "id": "91e2439f",
   "metadata": {},
   "outputs": [],
   "source": [
    "N=int(input())\n",
    "res=N//1000+(N%1000)//100+(N%100)//10+(N%10)//1\n",
    "print(res)"
   ]
  },
  {
   "cell_type": "markdown",
   "id": "39eae57b",
   "metadata": {},
   "source": [
    "## 2056. 연월일 달력"
   ]
  },
  {
   "cell_type": "code",
   "execution_count": null,
   "id": "23831e28",
   "metadata": {},
   "outputs": [],
   "source": [
    "check_list=[0,31,28,31,30,31,30,31,31,30,31,30,31]\n",
    "T = int(input())\n",
    "# 여러개의 테스트 케이스가 주어지므로, 각각을 처리합니다.\n",
    "for t in range(1, T + 1):\n",
    "    # ///////////////////////////////////////////////////////////////////////////////////\n",
    "    D=input()\n",
    " \n",
    "    year=int(D[0:4])\n",
    "    month=int(D[4:6])\n",
    "    day=int(D[6:8])\n",
    " \n",
    "    if month<1 or month>12:\n",
    "        print(\"#%d %d\" %(t,-1))\n",
    "    else:\n",
    "        if day<1 or day>check_list[month]:\n",
    "            print(\"#%d %d\" %(t,-1))\n",
    "        else:\n",
    "            print(\"#%d %s/%s/%s\"%(t,D[0:4],D[4:6],D[6:8]))\n",
    "    # ///////////////////////////////////////////////////////////////////////////////////"
   ]
  },
  {
   "cell_type": "markdown",
   "id": "d67518e8",
   "metadata": {},
   "source": [
    "## 2050. 알파벳을 숫자로 변환"
   ]
  },
  {
   "cell_type": "code",
   "execution_count": 13,
   "id": "0498b229",
   "metadata": {},
   "outputs": [
    {
     "name": "stdout",
     "output_type": "stream",
     "text": [
      "ABCDEFGHIJKLMNOPQRSTUVWXYZ\n",
      "1 2 3 4 5 6 7 8 9 10 11 12 13 14 15 16 17 18 19 20 21 22 23 24 25 26 "
     ]
    }
   ],
   "source": [
    "S=input()\n",
    "\n",
    "for alpha in S:\n",
    "    print(ord(alpha)-64, end=\" \")"
   ]
  }
 ],
 "metadata": {
  "kernelspec": {
   "display_name": "Python 3 (ipykernel)",
   "language": "python",
   "name": "python3"
  },
  "language_info": {
   "codemirror_mode": {
    "name": "ipython",
    "version": 3
   },
   "file_extension": ".py",
   "mimetype": "text/x-python",
   "name": "python",
   "nbconvert_exporter": "python",
   "pygments_lexer": "ipython3",
   "version": "3.9.12"
  }
 },
 "nbformat": 4,
 "nbformat_minor": 5
}
