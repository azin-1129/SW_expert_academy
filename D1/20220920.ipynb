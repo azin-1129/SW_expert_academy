{
 "cells": [
  {
   "cell_type": "markdown",
   "id": "ba8ce307",
   "metadata": {},
   "source": [
    "## 2047. 신문 헤드라인"
   ]
  },
  {
   "cell_type": "code",
   "execution_count": 21,
   "id": "aeff280f",
   "metadata": {},
   "outputs": [
    {
     "name": "stdout",
     "output_type": "stream",
     "text": [
      "The_headline_is_the_text_indicating_the_nature_of_the_article_below_it.\n",
      "THE_HEADLINE_IS_THE_TEXT_INDICATING_THE_NATURE_OF_THE_ARTICLE_BELOW_IT."
     ]
    }
   ],
   "source": [
    "# 7분 걸림\n",
    "\n",
    "S=input()\n",
    "\n",
    "for alpha in S:\n",
    "    if ord(alpha)>=97and ord(alpha)<=122: # 소문자 알파벳이면 변환\n",
    "        print(chr(ord(alpha)-32),end=\"\")\n",
    "    else:\n",
    "        print(alpha,end=\"\")"
   ]
  },
  {
   "cell_type": "markdown",
   "id": "8161ed1d",
   "metadata": {},
   "source": [
    "## 2046. 스탬프 찍기"
   ]
  },
  {
   "cell_type": "code",
   "execution_count": 22,
   "id": "a1ad0346",
   "metadata": {},
   "outputs": [
    {
     "name": "stdout",
     "output_type": "stream",
     "text": [
      "3\n",
      "###"
     ]
    }
   ],
   "source": [
    "# 2분 걸림\n",
    "\n",
    "N=int(input())\n",
    "\n",
    "for i in range(N):\n",
    "    print('#',end='')"
   ]
  },
  {
   "cell_type": "markdown",
   "id": "ac822904",
   "metadata": {},
   "source": [
    "## 2043. 서랍의 비밀번호"
   ]
  },
  {
   "cell_type": "code",
   "execution_count": 23,
   "id": "1fd06ae8",
   "metadata": {},
   "outputs": [
    {
     "name": "stdout",
     "output_type": "stream",
     "text": [
      "123 100\n",
      "24\n"
     ]
    }
   ],
   "source": [
    "P,K=map(int,input().split())\n",
    "\n",
    "print(P-K+1)"
   ]
  }
 ],
 "metadata": {
  "kernelspec": {
   "display_name": "Python 3 (ipykernel)",
   "language": "python",
   "name": "python3"
  },
  "language_info": {
   "codemirror_mode": {
    "name": "ipython",
    "version": 3
   },
   "file_extension": ".py",
   "mimetype": "text/x-python",
   "name": "python",
   "nbconvert_exporter": "python",
   "pygments_lexer": "ipython3",
   "version": "3.9.12"
  }
 },
 "nbformat": 4,
 "nbformat_minor": 5
}
